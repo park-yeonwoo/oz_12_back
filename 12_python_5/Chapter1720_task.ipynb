{
  "cells": [
    {
      "cell_type": "markdown",
      "metadata": {
        "id": "view-in-github",
        "colab_type": "text"
      },
      "source": [
        "<a href=\"https://colab.research.google.com/github/park-yeonwoo/oz_12_back/blob/main/Chapter1720_task.ipynb\" target=\"_parent\"><img src=\"https://colab.research.google.com/assets/colab-badge.svg\" alt=\"Open In Colab\"/></a>"
      ]
    },
    {
      "cell_type": "markdown",
      "metadata": {
        "id": "aLkxKxnFLowa"
      },
      "source": [
        "안녕하세요. 수강생 여러분~! Chapter17 ~ 20 수업은 잘 들으셨나요?\n",
        "\n",
        "Chapter17 ~ 20의 수업 내용을 바탕으로 아래 문제를 풀어주시면 됩니다.\n",
        "\n",
        "\n",
        "<br>\n",
        "\n",
        "\n",
        "[**답변 입력 방법**]\n",
        "\n",
        "문제 아래에 있는 코드 입력창에 정답코드를 작성하신 후  __▷ 버튼을 클릭해 코드를 실행__ 해보세요<br>"
      ]
    },
    {
      "cell_type": "markdown",
      "metadata": {
        "id": "l2vic_B5L0xP"
      },
      "source": [
        "---"
      ]
    },
    {
      "cell_type": "markdown",
      "metadata": {
        "id": "pYJ1dSggLwcG"
      },
      "source": [
        "__[문제1]__\n",
        "\n",
        "print_even 리스트 내에 있는 값 중 짝수만 화면에 출력되도록 print_score 함수를 생성 후 결과값을 출력해주세요\n",
        "\n",
        "print_even ([1, 3, 2, 10, 12, 11, 15])"
      ]
    },
    {
      "cell_type": "code",
      "execution_count": null,
      "metadata": {
        "id": "PTqEeebbLmCA",
        "colab": {
          "base_uri": "https://localhost:8080/"
        },
        "outputId": "7b090b6c-c3f4-4661-e9bd-abc1e5adfbea"
      },
      "outputs": [
        {
          "output_type": "stream",
          "name": "stdout",
          "text": [
            "[2, 10, 12]\n"
          ]
        }
      ],
      "source": [
        "#내가 작성한 코드\n",
        "\"\"\"\n",
        "print_even ([1, 3, 2, 10, 12, 11, 15])\n",
        "\n",
        "def print_score:\n",
        "    print_even.sort()\n",
        "    if len(print_even) % 2 == 0:\n",
        "        return print_score\n",
        "\n",
        "print(print_score)\n",
        "\n",
        "\n",
        "---------------------------------------------------\n",
        "\"\"\"\n",
        "#GPT에게 물어본 코드\n",
        "\n",
        "#GPT가 말한 문제점 : 1) 문법 오류 : 괄호 빼먹음, 2) 논리오류 : 리스트가 아닌데 리스트 sort 로 처리하려함\n",
        "# 3) 리턴 값 오류 : 자기 자신을 리턴하면 안 됨\n",
        "\n",
        "def print_score(numbers):\n",
        "    even_numbers = [n for n in numbers if n % 2 == 0]  # 짝수만 추출 , 리스트 컴프리헨션 사용\n",
        "    even_numbers.sort()  # 정렬\n",
        "    return even_numbers  # 결과값 반환\n",
        "\n",
        "# 호출\n",
        "print_even = [1, 3, 2, 10, 12, 11, 15]\n",
        "print(print_score(print_even))\n"
      ]
    },
    {
      "cell_type": "markdown",
      "metadata": {
        "id": "JHm7_D4YL0xS"
      },
      "source": [
        "---"
      ]
    },
    {
      "cell_type": "markdown",
      "metadata": {
        "id": "ZkGserEsQS0L"
      },
      "source": [
        "__[문제2]__\n",
        "\n",
        "비어있는 오즈 (oz) 클래스를 \"정의\" 해보세요."
      ]
    },
    {
      "cell_type": "code",
      "execution_count": 1,
      "metadata": {
        "id": "dJbcWWlwL0iK"
      },
      "outputs": [],
      "source": [
        "class oz:\n",
        "    pass"
      ]
    },
    {
      "cell_type": "markdown",
      "metadata": {
        "id": "vvTvRiQvL0xT"
      },
      "source": [
        "---"
      ]
    },
    {
      "cell_type": "markdown",
      "metadata": {
        "id": "Ofy86rZfL1Mg"
      },
      "source": [
        "__[문제3]__\n",
        "\n",
        "오즈(oz) 클래스의 인스턴스를 \"생성\" 하고 이를 coding 변수로 할당해보세요."
      ]
    },
    {
      "cell_type": "code",
      "execution_count": 3,
      "metadata": {
        "id": "5NhWiuULL2Xa"
      },
      "outputs": [],
      "source": [
        "class oz:\n",
        "    def coding(self):\n",
        "        print('정답')"
      ]
    },
    {
      "cell_type": "markdown",
      "metadata": {
        "id": "YnifL4rpL0xU"
      },
      "source": [
        "---"
      ]
    },
    {
      "cell_type": "markdown",
      "metadata": {
        "id": "5T6EMx8EL26b"
      },
      "source": [
        "[문제4]\n",
        "\n",
        "오즈(oz) 클래스에 \"클래스 정복\"을 출력하는 기본 생성자를 추가해주세요"
      ]
    },
    {
      "cell_type": "code",
      "execution_count": 26,
      "metadata": {
        "id": "Zq35PXA0L3-m",
        "colab": {
          "base_uri": "https://localhost:8080/"
        },
        "outputId": "7296ffa3-7a26-4032-9c32-24fb2d6e004d"
      },
      "outputs": [
        {
          "output_type": "stream",
          "name": "stdout",
          "text": [
            "클래스 정복\n"
          ]
        }
      ],
      "source": [
        "class oz:\n",
        "\n",
        "    def __init__(self):\n",
        "        self.classt = '클래스 정복'\n",
        "\n",
        "    def greeting(self):\n",
        "        print(self.classt)\n",
        "\n",
        "호출 = oz()\n",
        "호출.greeting()"
      ]
    },
    {
      "cell_type": "markdown",
      "metadata": {
        "id": "iuDVRxvDL0xV"
      },
      "source": [
        "---"
      ]
    },
    {
      "cell_type": "markdown",
      "metadata": {
        "id": "htuycQWSL4l-"
      },
      "source": [
        "__[문제5]__\n",
        "\n",
        "오즈 (oz) 클래스에 (이름, 나이, 코딩레벨)을 받는 생성자를 추가해주세요\n",
        "\n",
        "coding = oz(\"김코\", 30, \"A\")\n"
      ]
    },
    {
      "cell_type": "code",
      "execution_count": 33,
      "metadata": {
        "id": "A7h3I8CWL5ox"
      },
      "outputs": [],
      "source": [
        "class oz:\n",
        "\n",
        "    def __init__(self, name, age, coding_level):\n",
        "        self.name = name\n",
        "        self.age = age\n",
        "        self.coding_level = coding_level\n",
        "\n",
        "    def coding(self):\n",
        "        print(f'이름: {self.name}, 나이: {self.age}, 코딩레벨: {self.coding_level}')\n",
        "\n",
        "\n",
        "#생성자 init에 대한 이해가 부족해서 문제 푸는데 애 먹음...\n",
        "#ini 이해 후 하려니 self에 각각 지정해줘야 6번 문제에 호출할 수 있다는 GPT의 말에 강의자료 열심히 뒤져가며 풀었더니 겨우 풀었다...\n",
        "#\n"
      ]
    },
    {
      "cell_type": "markdown",
      "metadata": {
        "id": "d6vtWWQWL0xV"
      },
      "source": [
        "---"
      ]
    },
    {
      "cell_type": "markdown",
      "metadata": {
        "id": "ZGDLHI5xL6Bd"
      },
      "source": [
        "__[문제6]__\n",
        "\n",
        "5번 문제에서 생성한 인스턴스의 이름, 나이, 성별을 출력해주세요.\n",
        "\n",
        "\n",
        "\n",
        "출력 결과  ) <br>\n",
        "이름 : 김코  \n",
        "나이 : 30  \n",
        "코딩레벨 : A  \n",
        "\n",
        "__Tips__\n",
        "\n",
        "\n",
        "- 인스턴스 변수에 접근하여 값을 출력하면 됩니다  : )"
      ]
    },
    {
      "cell_type": "code",
      "execution_count": 34,
      "metadata": {
        "id": "qCrPejI_L8Wr",
        "colab": {
          "base_uri": "https://localhost:8080/"
        },
        "outputId": "e222981f-2f80-433a-8e05-7c0df1ca2b1b"
      },
      "outputs": [
        {
          "output_type": "stream",
          "name": "stdout",
          "text": [
            "이름: 김코, 나이: 30, 코딩레벨: A\n"
          ]
        }
      ],
      "source": [
        "호출 = oz('김코','30','A')\n",
        "호출.coding()"
      ]
    },
    {
      "cell_type": "markdown",
      "metadata": {
        "id": "AYMslvq8L0xW"
      },
      "source": [
        "---"
      ]
    },
    {
      "cell_type": "markdown",
      "metadata": {
        "id": "RmtPk-A1L8z4"
      },
      "source": [
        "__[문제7]__\n",
        "\n",
        "오즈 (oz) 클래스에서 이름, 나이, 성별을 출력하는 who() 메소드를 추가하고 who()메소드를 이용해 아래 출력 결과를 만들어주세요\n",
        "\n",
        "\n",
        "출력 결과 ) <br>\n",
        "이름: 김코, 나이: 30, 코딩레벨: A"
      ]
    },
    {
      "cell_type": "code",
      "execution_count": 31,
      "metadata": {
        "id": "fvrvm87vL_HZ",
        "colab": {
          "base_uri": "https://localhost:8080/"
        },
        "outputId": "4a4d2fdd-cb71-4a32-ead2-495ac4b2b2b1"
      },
      "outputs": [
        {
          "output_type": "stream",
          "name": "stdout",
          "text": [
            "이름: 김코, 나이: 30, 코딩레벨: A\n"
          ]
        }
      ],
      "source": [
        "class oz:\n",
        "    def __init__(self, name, age, coding_level):\n",
        "        self.name = name\n",
        "        self.age = age\n",
        "        self.coding_level = coding_level\n",
        "\n",
        "    def who(self):\n",
        "        print(f'이름: {self.name}, 나이: {self.age}, 코딩레벨: {self.coding_level}')\n",
        "\n",
        "\n",
        "coding = oz('김코', 30, 'A')\n",
        "coding.who()\n"
      ]
    }
  ],
  "metadata": {
    "colab": {
      "provenance": [],
      "include_colab_link": true
    },
    "kernelspec": {
      "display_name": "Python 3",
      "name": "python3"
    },
    "language_info": {
      "codemirror_mode": {
        "name": "ipython",
        "version": 3
      },
      "file_extension": ".py",
      "mimetype": "text/x-python",
      "name": "python",
      "nbconvert_exporter": "python",
      "pygments_lexer": "ipython3",
      "version": "3.11.7"
    }
  },
  "nbformat": 4,
  "nbformat_minor": 0
}
