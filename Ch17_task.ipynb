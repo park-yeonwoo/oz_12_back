{
  "cells": [
    {
      "cell_type": "markdown",
      "metadata": {
        "id": "view-in-github",
        "colab_type": "text"
      },
      "source": [
        "<a href=\"https://colab.research.google.com/github/park-yeonwoo/oz_12_back/blob/main/Ch17_task.ipynb\" target=\"_parent\"><img src=\"https://colab.research.google.com/assets/colab-badge.svg\" alt=\"Open In Colab\"/></a>"
      ]
    },
    {
      "cell_type": "markdown",
      "metadata": {
        "id": "4AbokXRs3Qnm"
      },
      "source": [
        "<span style=\"font-size:100%\">\n",
        "\n",
        "수업은 모두 열심히 들으셨나요?\n",
        "\n",
        "간혹 강의에서 언급되지 않은 내용이 문제로 나올 수 있습니다.<br>\n",
        "그럴땐 강의 내용 외 문제는 구글링을 통해 해결해주세요<br></span>\n",
        "<span style=\"font-size:80%\">\n",
        "(구글링 또한 개발자가 갖쳐야할 역량 중에 하나랍니다 😊)\n",
        "</span>\n",
        "\n",
        "---"
      ]
    },
    {
      "cell_type": "markdown",
      "metadata": {
        "id": "9FT2jqdg3Qno"
      },
      "source": [
        "### Chapter17 : `Python 변수에 대한 개념 복습하고 문제풀기`"
      ]
    },
    {
      "cell_type": "markdown",
      "metadata": {
        "id": "ZyIpiS-S3Qnp"
      },
      "source": [
        "<span style=\"font-size:80%\">[문제1]<br><br></span>\n",
        "두 수를 받은 뒤 곱한 결과를 반환하는 oz 함수를 만들어주세요\n"
      ]
    },
    {
      "cell_type": "markdown",
      "metadata": {
        "id": "_t24jHrq3Qnp"
      },
      "source": [
        "<span style=\"color:red\">답변</span>"
      ]
    },
    {
      "cell_type": "code",
      "source": [
        "def oz(a, b):\n",
        "    return a * b\n",
        "print(oz(6, 3))"
      ],
      "metadata": {
        "colab": {
          "base_uri": "https://localhost:8080/"
        },
        "id": "7Jz54wUj3ZMO",
        "outputId": "cd0fc500-8187-46a6-87a5-3fb7f30df926"
      },
      "execution_count": 1,
      "outputs": [
        {
          "output_type": "stream",
          "name": "stdout",
          "text": [
            "18\n"
          ]
        }
      ]
    },
    {
      "cell_type": "markdown",
      "metadata": {
        "id": "UvHsk6303Qnq"
      },
      "source": [
        "<span style=\"font-size:80%\">[문제2]<br><br></span>\n",
        "```\n",
        "아래 작성된 코드의 실행 결과를 설명해주세요\n",
        "\n",
        "print(\"A\")\n",
        "\n",
        "def message() :\n",
        "    print(\"B\")\n",
        "\n",
        "print(\"C\")\n",
        "\n",
        "message()\n",
        "\n",
        "```"
      ]
    },
    {
      "cell_type": "code",
      "source": [
        "print(\"A\")\n",
        "\n",
        "def message() :\n",
        "    print(\"B\")\n",
        "\n",
        "print(\"C\")\n",
        "\n",
        "message()"
      ],
      "metadata": {
        "colab": {
          "base_uri": "https://localhost:8080/"
        },
        "id": "7AL0ueV93vPZ",
        "outputId": "e04174c5-6107-41fc-b0ff-e872f7ce0c83"
      },
      "execution_count": 2,
      "outputs": [
        {
          "output_type": "stream",
          "name": "stdout",
          "text": [
            "A\n",
            "C\n",
            "B\n"
          ]
        }
      ]
    },
    {
      "cell_type": "markdown",
      "metadata": {
        "id": "Z06ymp_g3Qnq"
      },
      "source": [
        "<span style=\"color:red\">답변</span>"
      ]
    },
    {
      "cell_type": "markdown",
      "metadata": {
        "id": "al3LCPbg3Qnq"
      },
      "source": [
        "----"
      ]
    },
    {
      "cell_type": "markdown",
      "source": [
        "A\n",
        "\n",
        "C\n",
        "\n",
        "B"
      ],
      "metadata": {
        "id": "08ydoqtB3yTb"
      }
    },
    {
      "cell_type": "markdown",
      "metadata": {
        "id": "-cqsEdRK3Qnq"
      },
      "source": [
        "<span style=\"font-size:80%\">[문제3]<br><br></span>\n",
        "```매개변수가 없는 oz 함수를 호출하는 방법으로 올바른 것을 골라주세요```\n",
        "\n",
        "1. def oz\n",
        "2. oz\n",
        "3. oz( )\n",
        "4. oz[ ]\n",
        "5. def oz:"
      ]
    },
    {
      "cell_type": "markdown",
      "metadata": {
        "id": "SewV7Y6X3Qnr"
      },
      "source": [
        "<span style=\"color:red\">답변</span>"
      ]
    },
    {
      "cell_type": "markdown",
      "metadata": {
        "id": "YMReopII3Qnr"
      },
      "source": [
        "3"
      ]
    },
    {
      "cell_type": "markdown",
      "metadata": {
        "id": "atUbctPu3Qnr"
      },
      "source": [
        "----"
      ]
    },
    {
      "cell_type": "markdown",
      "metadata": {
        "id": "mkIvvjM03Qnr"
      },
      "source": [
        "<span style=\"font-size:80%\">[문4]<br><br></span>\n",
        "```문자열 하나를 입력받아 인터넷 주소를 반환하는 make_url 함수를 만들어주세요```\n",
        "\n",
        "예 ) make_url(\"google\")\n",
        "\n",
        "출력 : www.google.com"
      ]
    },
    {
      "cell_type": "markdown",
      "metadata": {
        "id": "aPFXdLj03Qnr"
      },
      "source": [
        "<span style=\"color:red\">답변</span>"
      ]
    },
    {
      "cell_type": "code",
      "source": [
        "def make_url(site):\n",
        "    url = \"www.\" + site + \".com\"\n",
        "    return url\n",
        "\n",
        "print(make_url(\"google\"))\n",
        "\n",
        "\n",
        "#make_url(__) 이 곳은 함수이므로 문자열 감싸면 안 됨!\n",
        "#출력시에 출력하고 싶은 문자열 입력 후 문자열 감싸기!\n",
        "#파이썬은 띄쓰 대소문자 들여쓰기에 민감합니다. 꼭 확인해주세요~"
      ],
      "metadata": {
        "colab": {
          "base_uri": "https://localhost:8080/"
        },
        "id": "qeUNxXuF4hlX",
        "outputId": "ab140801-4625-4f3a-b7b5-bfb53f11402e"
      },
      "execution_count": 11,
      "outputs": [
        {
          "output_type": "stream",
          "name": "stdout",
          "text": [
            "www.google.com\n"
          ]
        }
      ]
    },
    {
      "cell_type": "markdown",
      "metadata": {
        "id": "goxOHy2F3Qnr"
      },
      "source": [
        "----"
      ]
    },
    {
      "cell_type": "markdown",
      "metadata": {
        "id": "kjPlsIr83Qnr"
      },
      "source": [
        "<span style=\"font-size:80%\">[문제5]<br><br></span>\n",
        "```아래 코드를 실행했을때 c의 값으로 올바른 것을 골라주세요```\n",
        "\n",
        "def 함수0(num) :<br>\n",
        "&emsp;&emsp;return num * 2<br>\n",
        "\n",
        "def 함수1(num) :<br>\n",
        "&emsp;&emsp;return 함수0(num + 2)<br>\n",
        "\n",
        "def 함수2(num) :<br>\n",
        "&emsp;&emsp;num = num + 10<br>\n",
        "&emsp;&emsp;return 함수1(num)<br>\n",
        "\n",
        "c = 함수2(2)<br>\n",
        "print(c)\n",
        "\n",
        "\n",
        "1. 1\n",
        "2. 5\n",
        "3. 3\n",
        "4. 4\n",
        "5. 28"
      ]
    },
    {
      "cell_type": "markdown",
      "metadata": {
        "id": "SnIg4Nr93Qns"
      },
      "source": [
        "<span style=\"color:red\">답변</span>"
      ]
    },
    {
      "cell_type": "markdown",
      "metadata": {
        "id": "pMUTAho43Qns"
      },
      "source": [
        "4  (오답)\n",
        "\n",
        "5\n",
        "\n",
        "지피티와 같이 열심히 머리 맞대고 이해했다. 그니까 리턴 값으로 쭉 올라가서 결국 28이 된다고 설명 받고 겨우 이해함..."
      ]
    },
    {
      "cell_type": "markdown",
      "metadata": {
        "id": "pEGVsueM3Qns"
      },
      "source": [
        "----"
      ]
    },
    {
      "cell_type": "markdown",
      "metadata": {
        "id": "r9wz6fZk3Qns"
      },
      "source": [
        "### Chapter18 : `Python의 Class 개념에 대해 복습하고 문제풀기`"
      ]
    },
    {
      "cell_type": "markdown",
      "metadata": {
        "id": "2h_DKvoV3Qns"
      },
      "source": [
        "<span style=\"font-size:80%\">[문제1]<br><br></span>\n",
        "```클래스 greeting 메서드를 호출하기 위해 필요한 코드를 작성해주세요```\n",
        "\n",
        "class Person:<br>\n",
        "&emsp;def greeting(self):<br>\n",
        "&emsp;&emsp;print('hello')<br>"
      ]
    },
    {
      "cell_type": "code",
      "source": [
        "    class Person:\n",
        "        def greeting(self):\n",
        "            print('hello')\n",
        "\n",
        "\n",
        "# Person 클래스의 인스턴스 생성\n",
        "person = Person()\n",
        "\n",
        "# greeting 메서드 호출\n",
        "person.greeting()\n"
      ],
      "metadata": {
        "colab": {
          "base_uri": "https://localhost:8080/"
        },
        "id": "lkjo1FqK_nmd",
        "outputId": "da18d2e2-951b-452d-f90e-3fd31fd74647"
      },
      "execution_count": 26,
      "outputs": [
        {
          "output_type": "stream",
          "name": "stdout",
          "text": [
            "hello\n"
          ]
        }
      ]
    },
    {
      "cell_type": "markdown",
      "metadata": {
        "id": "ACvA8y4J3Qns"
      },
      "source": [
        "<span style=\"color:red\">답변</span>"
      ]
    },
    {
      "cell_type": "markdown",
      "metadata": {
        "id": "aPO0M2o03Qns"
      },
      "source": [
        "호출 = person()\n",
        "호출.greeting() / 오답\n",
        "\n",
        "1. 클래스의 인스턴스 생성을 진행 후 메서드 호출을 해야함\n",
        "2. 호출이라는 것 자체도 내가 생성한 객체일 뿐임, 그래서 해당 코드에서는 먹히지 않음\n",
        "3. 정확히 이해하려 노력중이나 아직 어려움.. ㅠ"
      ]
    },
    {
      "cell_type": "markdown",
      "metadata": {
        "id": "15yttdgO3Qns"
      },
      "source": [
        "----"
      ]
    },
    {
      "cell_type": "markdown",
      "metadata": {
        "id": "Yew5nVnI3Qns"
      },
      "source": [
        "<span style=\"font-size:80%\">[문제2]<br><br></span>\n",
        "```클래스로 인스턴스를 만들때 자동으로 호출되는 메서드를 적어주세요```"
      ]
    },
    {
      "cell_type": "markdown",
      "metadata": {
        "id": "jEECinOH3Qns"
      },
      "source": [
        "<span style=\"color:red\">답변</span>"
      ]
    },
    {
      "cell_type": "markdown",
      "metadata": {
        "id": "RoxJTydD3Qns"
      },
      "source": [
        "__init__"
      ]
    },
    {
      "cell_type": "markdown",
      "metadata": {
        "id": "uCrAAv9o3Qns"
      },
      "source": [
        "----"
      ]
    },
    {
      "cell_type": "markdown",
      "metadata": {
        "id": "NKWcclec3Qns"
      },
      "source": [
        "<span style=\"font-size:80%\">[문제3]<br><br></span>\n",
        "```Person 클래스에 인스턴스 속성인 name에 접근하는 방법으로 올바른 것을 골라주세요```\n",
        "\n",
        "```\n",
        "class Person:\n",
        "    def __init__(self, name):\n",
        "        self.name = name\n",
        "```\n",
        "\n",
        "1. Person.name\n",
        "2. name\n",
        "3. self\n",
        "4. self.name\n",
        "5. self[name]"
      ]
    },
    {
      "cell_type": "markdown",
      "metadata": {
        "id": "fwzyGxyK3Qns"
      },
      "source": [
        "<span style=\"color:red\">답변</span>"
      ]
    },
    {
      "cell_type": "markdown",
      "metadata": {
        "id": "RXqG-Wew3Qns"
      },
      "source": [
        "4 오답\n",
        "\n",
        "\n",
        "1 정답\n",
        "\n",
        "접근하는과 클래스를 아직 이해하기가 조금 어려운 것 같다.\n",
        "클래스 인스턴스 뒤에 점 속성 / 이해하기!"
      ]
    },
    {
      "cell_type": "markdown",
      "metadata": {
        "id": "zpTEouGW3Qns"
      },
      "source": [
        "----"
      ]
    },
    {
      "cell_type": "markdown",
      "metadata": {
        "id": "7AMFt-fh3Qnt"
      },
      "source": [
        "<span style=\"font-size:80%\">[문제4]<br><br></span>\n",
        "```Person 클래스를 상속받아서 Student 클래스를 만드는 방법으로 올바른 것을 골라주세요```\n",
        "\n",
        "1. class Student(Person)\n",
        "2. class Student:Person\n",
        "3. class Student(Person):\n",
        "4. class Person(student):\n",
        "5. class Studen=Person:"
      ]
    },
    {
      "cell_type": "markdown",
      "metadata": {
        "id": "ugs4jAKg3Qnt"
      },
      "source": [
        "<span style=\"color:red\">답변</span>"
      ]
    },
    {
      "cell_type": "markdown",
      "metadata": {
        "id": "smVVwmZz3Qnt"
      },
      "source": [
        "1"
      ]
    },
    {
      "cell_type": "markdown",
      "metadata": {
        "id": "dQhAzU8F3Qnt"
      },
      "source": [
        "----"
      ]
    },
    {
      "cell_type": "markdown",
      "metadata": {
        "id": "JRc9XgGy3Qnt"
      },
      "source": [
        "<span style=\"font-size:80%\">[문제5]<br><br></span>\n",
        "```메서드 오버라이딩에 대한 설명으로 올바른 것을 골라주세요```\n",
        "\n",
        "1. 메서드 오버라이딩은 함수 이름을 다르게 만들어도 된다.\n",
        "2. 메서드 오버라이딩은 기반 클래스의 메서드는 무시하고 새로운 메서드를 만든다는 뜻이다\n",
        "3. 메서드 오버라이딩은 어떤 기능이 같은 이름으로 사용되어야 할 때 활용된다.\n",
        "4. 오버라이딩 된 메서드에서 기반 클래스의 메서드를 호출할 수 없다.\n",
        "5. 메서드 오버라이딩은 원래 기능을 유지하면서 새로운 기능을 덧붙일 때 사용한다."
      ]
    },
    {
      "cell_type": "markdown",
      "metadata": {
        "id": "U9KYEywZ3Qnt"
      },
      "source": [
        "<span style=\"color:red\">답변</span>"
      ]
    },
    {
      "cell_type": "markdown",
      "metadata": {
        "id": "HShPJ5uW3Qny"
      },
      "source": [
        "3, 5 오답\n",
        "\n",
        "4, 5 정답\n",
        "\n",
        "3 / super함수를 이용하여 기반 클래스의 매서드를 호출할 수 있음!!"
      ]
    },
    {
      "cell_type": "markdown",
      "metadata": {
        "id": "wpgYRgUf3Qny"
      },
      "source": [
        "### Chapter19 : `Python 예외처리 방벙에 대해 알아보고 문제 풀기`"
      ]
    },
    {
      "cell_type": "markdown",
      "metadata": {
        "id": "leGIkGQH3Qny"
      },
      "source": [
        "<span style=\"font-size:80%\">[문제1]<br><br></span>\n",
        "```쓰기 모드로 설정하기 위한 명령어를 골라주세요```\n",
        "\n",
        "1. a\n",
        "2. x\n",
        "3. i\n",
        "4. w\n",
        "5. z"
      ]
    },
    {
      "cell_type": "markdown",
      "metadata": {
        "id": "zQA3hihv3Qny"
      },
      "source": [
        "<span style=\"color:red\">답변</span>"
      ]
    },
    {
      "cell_type": "markdown",
      "metadata": {
        "id": "VDDAEJ2O3Qny"
      },
      "source": [
        "4"
      ]
    },
    {
      "cell_type": "markdown",
      "metadata": {
        "id": "Fyxwx0EY3Qny"
      },
      "source": [
        "----"
      ]
    },
    {
      "cell_type": "markdown",
      "metadata": {
        "id": "-j1Hwtwr3Qny"
      },
      "source": [
        "<span style=\"font-size:80%\">[문제2]<br><br></span>\n",
        "```한 줄씩 읽어오기 위해 사용되는 메소드를 골라주세요```\n",
        "\n",
        "1. read()\n",
        "2. readline()\n",
        "3. readstring()\n",
        "4. line()"
      ]
    },
    {
      "cell_type": "markdown",
      "metadata": {
        "id": "73ucBAQT3Qny"
      },
      "source": [
        "<span style=\"color:red\">답변</span>"
      ]
    },
    {
      "cell_type": "markdown",
      "metadata": {
        "id": "ouT1g_ZG3Qny"
      },
      "source": [
        "2"
      ]
    },
    {
      "cell_type": "markdown",
      "metadata": {
        "id": "DYnaagvb3Qny"
      },
      "source": [
        "----"
      ]
    },
    {
      "cell_type": "markdown",
      "metadata": {
        "id": "LCYLkAgm3Qny"
      },
      "source": [
        "<span style=\"font-size:80%\">[문제3]<br><br></span>\n",
        "```콤마( , )로 구분해서 데이터를 입력하는 csv파일을 만들기 위해 필요한 코드를 추가로 작성해 주세요```\n",
        "\n",
        "list = ['10', '20', '30', '40']\n",
        "\n",
        "with open('test.csv', 'w') as f:<br>\n",
        "&emsp;&emsp;(여기서부터 필요한 코드를 하단 답변란에 작성해주세요)"
      ]
    },
    {
      "cell_type": "markdown",
      "metadata": {
        "id": "IV5yQyq53Qny"
      },
      "source": [
        "<span style=\"color:red\">답변</span>"
      ]
    },
    {
      "cell_type": "markdown",
      "metadata": {
        "id": "LA3VxNKH3Qny"
      },
      "source": [
        "f.write(','.join(list))"
      ]
    },
    {
      "cell_type": "markdown",
      "metadata": {
        "id": "mPugibHA3Qny"
      },
      "source": [
        "----"
      ]
    },
    {
      "cell_type": "markdown",
      "metadata": {
        "id": "BteT5N9R3Qny"
      },
      "source": [
        "### Chapter20 : `Python을 이용한 파일 읽고 쓰기에 대해 복습해보고 문제 풀어보기`"
      ]
    },
    {
      "cell_type": "markdown",
      "metadata": {
        "id": "M3knjAEp3Qnz"
      },
      "source": [
        "<span style=\"font-size:80%\">[문제1]<br><br></span>\n",
        "```다음 중 예외 처리에 대한 설명으로 잘못된 것을 모두 골라주세요```\n",
        "\n",
        "1. try의 코드에서 예외가 발생하면 except가 실행된다.\n",
        "2. 예외는 현재 함수의 코드 블록에서만 처리할 수 있다.\n",
        "3. try의 코드에서 예외가 발생하더라도 except가 실행되면 스크립트는 중단되지 않는다.\n",
        "4. try, except, else에서 예외가 발생하지 않으면 else가 실행된다.\n",
        "5. finally는 예외가 발생하면 실행되지 않는다."
      ]
    },
    {
      "cell_type": "markdown",
      "metadata": {
        "id": "dJob8A6D3Qnz"
      },
      "source": [
        "<span style=\"color:red\">답변</span>"
      ]
    },
    {
      "cell_type": "markdown",
      "metadata": {
        "id": "GSj4sTp13Qnz"
      },
      "source": [
        "3,4,5"
      ]
    },
    {
      "cell_type": "markdown",
      "metadata": {
        "id": "K7-qkbGv3Qnz"
      },
      "source": [
        "----"
      ]
    },
    {
      "cell_type": "markdown",
      "metadata": {
        "id": "gMfGacbK3Qnz"
      },
      "source": [
        "<span style=\"font-size:80%\">[문제2]<br><br></span>\n",
        "```예외를 임의로 발생 시키는 명령어를 골라주세요```\n",
        "\n",
        "1. else\n",
        "2. raising\n",
        "3. except\n",
        "4. ZeroDivisionError\n",
        "5. raise"
      ]
    },
    {
      "cell_type": "markdown",
      "metadata": {
        "id": "Q6YW9RhD3Qnz"
      },
      "source": [
        "<span style=\"color:red\">답변</span>"
      ]
    },
    {
      "cell_type": "markdown",
      "metadata": {
        "id": "YndMAxdm3Qnz"
      },
      "source": [
        "5"
      ]
    },
    {
      "cell_type": "markdown",
      "metadata": {
        "id": "dBB2BNTW3Qnz"
      },
      "source": [
        "----"
      ]
    },
    {
      "cell_type": "markdown",
      "metadata": {
        "id": "IL9CDHoe3Qnz"
      },
      "source": [
        "<span style=\"font-size:80%\">[문제3]<br><br></span>\n",
        "```인덱스의 범위를 벗어났을 때 발생하는 에러에 대한 예외처리를 담당하는 코드를 골라주세요```\n",
        "\n",
        "1. TypeError\n",
        "2. IndexError\n",
        "3. ZeroDivisionError\n",
        "4. KeyError\n",
        "5. SyntaxError"
      ]
    },
    {
      "cell_type": "markdown",
      "metadata": {
        "id": "Oj2ASdcl3Qnz"
      },
      "source": [
        "<span style=\"color:red\">답변</span>"
      ]
    },
    {
      "cell_type": "markdown",
      "metadata": {
        "id": "KBGqa6X53Qnz"
      },
      "source": [
        "2"
      ]
    },
    {
      "cell_type": "markdown",
      "metadata": {
        "id": "knb5BfZ83Qnz"
      },
      "source": [
        "----"
      ]
    }
  ],
  "metadata": {
    "language_info": {
      "name": "python"
    },
    "colab": {
      "provenance": [],
      "include_colab_link": true
    },
    "kernelspec": {
      "name": "python3",
      "display_name": "Python 3"
    }
  },
  "nbformat": 4,
  "nbformat_minor": 0
}