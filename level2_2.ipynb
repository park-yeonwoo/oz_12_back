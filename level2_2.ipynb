{
  "cells": [
    {
      "cell_type": "markdown",
      "metadata": {
        "id": "view-in-github",
        "colab_type": "text"
      },
      "source": [
        "<a href=\"https://colab.research.google.com/github/park-yeonwoo/oz_12_back/blob/main/level2_2.ipynb\" target=\"_parent\"><img src=\"https://colab.research.google.com/assets/colab-badge.svg\" alt=\"Open In Colab\"/></a>"
      ]
    },
    {
      "cell_type": "markdown",
      "metadata": {
        "id": "WXEwMsfUct7U"
      },
      "source": [
        "안녕하세요.<br><br>\n",
        "수강생 여러분~!\n",
        "\n",
        "\"Challenge : Chapter05 ~ 08 문제풀기\"는 잘 풀어보셨나요?\n",
        "\n",
        "\n",
        "너~~무 어려웠어요! 하는 분들을 위해 만들어봤습니다!\n",
        "\n",
        "문제 도장깨기 !!!!!\n",
        "\n",
        "차근차근 풀어나가면 파이썬 정복 가능입니다!\n",
        "\n",
        "화이팅 !\n",
        "\n",
        "\n",
        "Chapter05~08의 수업 내용을 바탕으로 아래 문제를 풀어주시면 됩니다.\n",
        "\n",
        "<br>\n",
        "\n",
        "[**답변 입력 방법**]\n",
        "\n",
        "문제 아래에 있는 코드 입력창에 정답코드를 작성하신 후  __▷ 버튼을 클릭해 코드를 실행__ 해보세요<br>\n",
        "<br>"
      ]
    },
    {
      "cell_type": "markdown",
      "metadata": {
        "id": "qoyC9wF-3hvs"
      },
      "source": [
        "-----"
      ]
    },
    {
      "cell_type": "markdown",
      "metadata": {
        "id": "1XiYBtHqwukf"
      },
      "source": [
        "<br>\n",
        "\n",
        "__[문제1]__\n",
        "\n",
        "코딩나라는 파이썬 문법을 통해 타이틀을 바꿔주면 신분을 변경할 수 있습니다.\n",
        "평민이 왕의 타이틀을 뻇으려고 합니다.\n",
        "평민의 신분상승 도와주세요 ! 그리고 출력으로 확인시켜주세요 !\n",
        "\n",
        "<br>\n",
        "출력 예)\n",
        "\n",
        "평민은 이제 '왕'\n",
        "\n",
        "왕은 이제 '평민'\n",
        "<br>"
      ]
    },
    {
      "cell_type": "code",
      "execution_count": 2,
      "metadata": {
        "colab": {
          "base_uri": "https://localhost:8080/"
        },
        "id": "gX6uX46fwukg",
        "outputId": "4b5a7899-6be5-49e9-cd1f-56e8177c7c88"
      },
      "outputs": [
        {
          "output_type": "stream",
          "name": "stdout",
          "text": [
            "왕\n"
          ]
        }
      ],
      "source": [
        "평민 = \"왕\"\n",
        "왕 = \"평민\"\n",
        "\n",
        "print(평민)\n",
        "\n"
      ]
    },
    {
      "cell_type": "markdown",
      "metadata": {
        "id": "BvtzzgnZwukg"
      },
      "source": [
        "<br>\n",
        "\n",
        "__[문제2]__\n",
        "\n",
        "꿈에서 숫자가 보였습니다.\n",
        "\n",
        "바로 로또를 사려고 하는데 앗 숫자가 너무 길어요 !\n",
        "\n",
        "정수부분만 잘라서 로또 번호를 골라보기로 했습니다.\n",
        "\n",
        "122211170788345.273782741828653689149813 정수 부분만 출력해주세요.\n",
        "\n",
        "\n",
        "<br>"
      ]
    },
    {
      "cell_type": "code",
      "execution_count": 3,
      "metadata": {
        "colab": {
          "base_uri": "https://localhost:8080/"
        },
        "id": "IVDiJEGgwukg",
        "outputId": "a9d75857-d982-48b4-c254-a66d1d664f9b"
      },
      "outputs": [
        {
          "output_type": "execute_result",
          "data": {
            "text/plain": [
              "122211170788345"
            ]
          },
          "metadata": {},
          "execution_count": 3
        }
      ],
      "source": [
        "lotto = 122211170788345.273782741828653689149813\n",
        "\n",
        "int(lotto)"
      ]
    },
    {
      "cell_type": "markdown",
      "metadata": {
        "id": "rAD_O3Gmc_43"
      },
      "source": [
        "<br>\n",
        "\n",
        "__[문제3]__\n",
        "\n",
        "\n",
        "sentence 변수를 할당하고, 양쪽 공백을 제거한 후 출력해주세요 !\n",
        "\n",
        "<br>\n",
        "\n",
        "__sentence = \" Hello World!  \"__\n"
      ]
    },
    {
      "cell_type": "code",
      "execution_count": 8,
      "metadata": {
        "id": "74wtVQFFc_h1",
        "colab": {
          "base_uri": "https://localhost:8080/"
        },
        "outputId": "1f5e7208-b0fd-4579-be75-625e6497450d"
      },
      "outputs": [
        {
          "output_type": "stream",
          "name": "stdout",
          "text": [
            "Hello World\n"
          ]
        }
      ],
      "source": [
        "sentence = \" Hello World! \"\n",
        "\n",
        "print(sentence[1:12])\n"
      ]
    },
    {
      "cell_type": "markdown",
      "metadata": {
        "id": "3uK_auXYdgk2"
      },
      "source": [
        "<br>__[문제4]__\n",
        "\n",
        "산만이가 집중력 테스트를 하기로 합니다.\n",
        "\n",
        "아주아주 긴 문자열이 있는데 여기에서 s의 횟수를 세보라고 합니다.\n",
        "\n",
        "파이썬을 배운 산만이에게는 꼼수가 있습니다.\n",
        "\n",
        "어떤 꼼수를 사용했을지 코드로 작성하고, 출력해주세요 !\n",
        "\n",
        "<br>\n",
        "\n",
        "__str = \"sdsdsddddddsdsssdssssdssssdsdssssssssssdsdsdsdsdssssdsdsssdssssdssssdsdssdsssdssssdssssdsdssdsssdssssdssssdsdssdsssdssssdssssdsdss\"__\n"
      ]
    },
    {
      "cell_type": "code",
      "execution_count": 11,
      "metadata": {
        "id": "9kvBxa6PdhgA",
        "colab": {
          "base_uri": "https://localhost:8080/"
        },
        "outputId": "b7390651-4ce6-40c4-bd1e-1faa6afed8de"
      },
      "outputs": [
        {
          "output_type": "execute_result",
          "data": {
            "text/plain": [
              "0"
            ]
          },
          "metadata": {},
          "execution_count": 11
        }
      ],
      "source": [
        "str = \"sdsdsddddddsdsssdssssdssssdsdssssssssssdsdsdsdsdssssdsdsssdssssdssssdsdssdsssdssssdssssdsdssdsssdssssdssssdsdssdsssdssssdssssdsdss\"\n",
        "\n",
        "str.count(\"a\")"
      ]
    },
    {
      "cell_type": "markdown",
      "metadata": {
        "id": "2Jte2VLKdiPm"
      },
      "source": [
        "__[문제5]__\n",
        "\n",
        "\n",
        "변수 data에 \"apple, banana, cherry\"를 할당하고, 이를 쉼표 기준으로 분리하여 출력해주세요 !"
      ]
    },
    {
      "cell_type": "code",
      "execution_count": 12,
      "metadata": {
        "colab": {
          "base_uri": "https://localhost:8080/"
        },
        "id": "tbqfQD_dwukh",
        "outputId": "3f9947b1-398d-4c81-bc83-3fe0a58d960f"
      },
      "outputs": [
        {
          "output_type": "stream",
          "name": "stdout",
          "text": [
            "apple, banana, cherry\n"
          ]
        }
      ],
      "source": [
        "data = \"apple, banana, cherry\"\n",
        "\n",
        "print(data)"
      ]
    },
    {
      "cell_type": "markdown",
      "metadata": {
        "id": "l11Ah2Obwukh"
      },
      "source": [
        "__[문제6]__\n",
        "\n",
        "\n",
        "오즈 코딩 스쿨 백엔드 8기 과정에 참여한 수강생 중 5명의 수강생이 자율적으로 스터디 그룹을 결성했습니다.\n",
        "\n",
        "스터디 그룹 내에는 한 주간 배운 내용으로 매주 쪽지 시험을 보는 룰이 있습니다.\n",
        "\n",
        "이 쪽지 시험의 평균이 70점이 넘으면 주말 스터디는 없습니다.\n",
        "\n",
        "주말 스터디의 여부를 True 또는 False로 출력해주세요.\n",
        "\n",
        "<br>\n",
        "A: 70, B: 75, C: 50, D: 80, E: 60"
      ]
    },
    {
      "cell_type": "code",
      "execution_count": 17,
      "metadata": {
        "colab": {
          "base_uri": "https://localhost:8080/"
        },
        "id": "T5onfKaDwukh",
        "outputId": "b118f719-bae4-487f-e887-263eb7a6542f"
      },
      "outputs": [
        {
          "output_type": "stream",
          "name": "stdout",
          "text": [
            "False\n"
          ]
        }
      ],
      "source": [
        "a, b, c, d, e = 70,75,50,80,60\n",
        "\n",
        "hab = a + b + c + d + e\n",
        "pep = hab / 5\n",
        "\n",
        "result = pep >= 70\n",
        "\n",
        "\n",
        "print(result)"
      ]
    },
    {
      "cell_type": "code",
      "source": [],
      "metadata": {
        "id": "UdJfgTeD0bqL"
      },
      "execution_count": null,
      "outputs": []
    }
  ],
  "metadata": {
    "colab": {
      "provenance": [],
      "include_colab_link": true
    },
    "kernelspec": {
      "display_name": "Python 3",
      "name": "python3"
    },
    "language_info": {
      "codemirror_mode": {
        "name": "ipython",
        "version": 3
      },
      "file_extension": ".py",
      "mimetype": "text/x-python",
      "name": "python",
      "nbconvert_exporter": "python",
      "pygments_lexer": "ipython3",
      "version": "3.12.3"
    }
  },
  "nbformat": 4,
  "nbformat_minor": 0
}