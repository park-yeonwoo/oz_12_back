{
  "cells": [
    {
      "cell_type": "markdown",
      "metadata": {
        "id": "view-in-github",
        "colab_type": "text"
      },
      "source": [
        "<a href=\"https://colab.research.google.com/github/park-yeonwoo/oz_12_back/blob/main/task_1.ipynb\" target=\"_parent\"><img src=\"https://colab.research.google.com/assets/colab-badge.svg\" alt=\"Open In Colab\"/></a>"
      ]
    },
    {
      "cell_type": "markdown",
      "metadata": {
        "id": "1SNQBm0VBIQW"
      },
      "source": [
        "안녕하세요. 수강생 여러분~! Chapter33 ~ 41 수업은 잘 들으셨나요?\n",
        "\n",
        "Chapter33 ~ 41의 수업 내용을 바탕으로 아래 문제를 풀어주시면 됩니다.\n",
        "\n",
        "\n",
        "<br>\n",
        "\n",
        "\n",
        "[**답변 입력 방법**]\n",
        "\n",
        "문제 아래에 있는 코드 입력창에 정답코드를 작성하신 후  __▷ 버튼을 클릭해 코드를 실행__ 해보세요<br>"
      ]
    },
    {
      "cell_type": "markdown",
      "metadata": {
        "id": "bj9jbEXeBIQY"
      },
      "source": [
        "---"
      ]
    },
    {
      "cell_type": "markdown",
      "metadata": {
        "id": "M6Yz8oreBIQY"
      },
      "source": [
        "[문제 1]\n",
        "\n",
        "사용자로부터 두 개의 숫자를 입력받아 나눗셈을 수행하는 프로그램을 작성하세요.\n",
        "\n",
        "[예외처리]\n",
        "- 입력 값이 숫자가 아닐 때 발생할 수 있는 ValueError\n",
        "- 나누는 수가 0일 때 발생할 수 있는 ZeroDivisionError\n",
        "- 위 2가지 예외처리 후 사용자에게 이해하기 쉬운 메시지 작성 후 출력되도록 코드를 작성"
      ]
    },
    {
      "cell_type": "code",
      "execution_count": 2,
      "metadata": {
        "colab": {
          "base_uri": "https://localhost:8080/"
        },
        "id": "GEJWcWQ9BIQZ",
        "outputId": "7acf2f53-758d-4102-cfcf-a4e705f0bb86"
      },
      "outputs": [
        {
          "output_type": "stream",
          "name": "stdout",
          "text": [
            "숫자 두 개를 쉼표로 구분하여 입력해주세요3,4\n",
            "0.75\n"
          ]
        }
      ],
      "source": [
        "try:\n",
        "    # x,y = map(int(input(\"숫자 두 개를 쉼표로 구분하여 입력해주세요\"),split(\",\"))) <- 인자를 두 개 넣으면 작동이 되지 않음\n",
        "    x, y = map(int,input(\"숫자 두 개를 쉼표로 구분하여 입력해주세요\").split(\",\"))\n",
        "    print(x / y)\n",
        "except ValueError:\n",
        "               print(\"숫자를 쉼표로 구분하여 입력해주세요\")\n",
        "except ZeroDivisionError:\n",
        "               print(\"나누는 수가 0입니다. 확인 후 입력해주세요.\")\n"
      ]
    },
    {
      "cell_type": "markdown",
      "metadata": {
        "id": "wSrgDJjoBIQZ"
      },
      "source": [
        "[문제 2]\n",
        "\n",
        "파일을 읽어서 내용을 출력하는 프로그램을 작성하세요.\n",
        "\n",
        "- 파일이 존재하지 않을 때 발생하는 FileNotFoundError를 처리\n",
        "- 파일이 존재하지 않을 경우 \"파일을 찾을 수 없습니다.\"라는 메시지를 출력"
      ]
    },
    {
      "cell_type": "code",
      "execution_count": null,
      "metadata": {
        "colab": {
          "base_uri": "https://localhost:8080/"
        },
        "id": "4d9wXjqXBIQZ",
        "outputId": "96f8e6b5-c41a-4607-b06a-f2f882887eea"
      },
      "outputs": [
        {
          "output_type": "stream",
          "name": "stdout",
          "text": [
            "파일을 찾을 수 없습니다.\n"
          ]
        }
      ],
      "source": [
        "try:\n",
        "    open(\"test.py\").read()\n",
        "except FileNotFoundError:\n",
        "    print(\"파일을 찾을 수 없습니다.\")"
      ]
    },
    {
      "cell_type": "markdown",
      "metadata": {
        "id": "ZvkmG-xPBIQZ"
      },
      "source": [
        "---"
      ]
    },
    {
      "cell_type": "markdown",
      "metadata": {
        "id": "8WBcFWp8BIQa"
      },
      "source": [
        "[문제 3]\n",
        "\n",
        "사용자로부터 여러 개의 숫자를 입력받아 리스트에 저장한 후, 사용자가 'done'이라고 입력할 때까지 계속 입력받으세요.\n",
        "\n",
        "- 입력 중 숫자가 아닌 값이 입력되면 ValueError를 처리\n",
        "- 숫자 외 값이 입력된 경우 어떤 값이 잘못 입력되었는지 사용자에게 알려주는 문구 출력<br>\n",
        "  (예: f\"잘못된 값: {변수}. 숫자를 입력해주세요.\")\n",
        "\n"
      ]
    },
    {
      "cell_type": "code",
      "execution_count": null,
      "metadata": {
        "colab": {
          "base_uri": "https://localhost:8080/"
        },
        "id": "caPHfh2KBIQa",
        "outputId": "fdfc0fd2-12dc-4c24-b667-09e8679424c4"
      },
      "outputs": [
        {
          "output_type": "stream",
          "name": "stdout",
          "text": [
            "숫자를 입력하세요. ('done를 입력하면 종료됩니다.)1,2,3,4,5\\\n",
            "잘못된 값:1,2,3,4,5\\. 숫자를 입력해주세요\n",
            "숫자를 입력하세요. ('done를 입력하면 종료됩니다.)1\n",
            "숫자를 입력하세요. ('done를 입력하면 종료됩니다.)4\n",
            "숫자를 입력하세요. ('done를 입력하면 종료됩니다.)7\n",
            "숫자를 입력하세요. ('done를 입력하면 종료됩니다.)3\n",
            "숫자를 입력하세요. ('done를 입력하면 종료됩니다.)5\n",
            "숫자를 입력하세요. ('done를 입력하면 종료됩니다.)6\n",
            "숫자를 입력하세요. ('done를 입력하면 종료됩니다.)7\n",
            "숫자를 입력하세요. ('done를 입력하면 종료됩니다.)66\n",
            "숫자를 입력하세요. ('done를 입력하면 종료됩니다.)672523\n",
            "숫자를 입력하세요. ('done를 입력하면 종료됩니다.)done\n",
            "리스트 [1, 4, 7, 3, 5, 6, 7, 66, 672523]\n"
          ]
        }
      ],
      "source": [
        "numbers = []\n",
        "\n",
        "while True:\n",
        "    user_input = input(\"숫자를 입력하세요. ('done를 입력하면 종료됩니다.)\")\n",
        "\n",
        "    if user_input.lower() == \"done\":\n",
        "        break\n",
        "\n",
        "    try:\n",
        "        number = int(user_input)\n",
        "        numbers.append(number)\n",
        "    except ValueError:\n",
        "        print(f\"잘못된 값:{user_input}. 숫자를 입력해주세요\")\n",
        "\n",
        "print(\"리스트\" , numbers)"
      ]
    },
    {
      "cell_type": "markdown",
      "metadata": {
        "id": "1Rq-eI_4BIQa"
      },
      "source": [
        "---"
      ]
    },
    {
      "cell_type": "markdown",
      "metadata": {
        "id": "OFSc1Y30BIQa"
      },
      "source": [
        "[문제 4]\n",
        "\n",
        "사용자 정의 예외 NegativeNumberError를 생성하고, 사용자로부터 숫자를 입력받아 음수일 경우 NegativeNumberError를 발생시키는 프로그램을 작성하세요.\n",
        "\n",
        "- 예외 처리 구문을 사용하여 음수 입력 시 \"양수를 입력해주세요.\"라는 메시지를 출력"
      ]
    },
    {
      "cell_type": "code",
      "execution_count": null,
      "metadata": {
        "colab": {
          "base_uri": "https://localhost:8080/",
          "height": 108
        },
        "id": "Onb9GJRoBIQa",
        "outputId": "301471ce-6988-4d45-8c92-3873dc86ee2c"
      },
      "outputs": [
        {
          "output_type": "error",
          "ename": "IndentationError",
          "evalue": "unexpected indent (<ipython-input-27-95bc7e0d9c29>, line 3)",
          "traceback": [
            "\u001b[0;36m  File \u001b[0;32m\"<ipython-input-27-95bc7e0d9c29>\"\u001b[0;36m, line \u001b[0;32m3\u001b[0m\n\u001b[0;31m    print(numbers)\u001b[0m\n\u001b[0m    ^\u001b[0m\n\u001b[0;31mIndentationError\u001b[0m\u001b[0;31m:\u001b[0m unexpected indent\n"
          ]
        }
      ],
      "source": [
        "try:\n",
        "    numbers = int(input(\"숫자를 입력해주세요\"))\n",
        "        print(numbers)\n",
        "except NegativeNumberError:\n",
        "    print(\"양수를 입력해주세요\")"
      ]
    },
    {
      "cell_type": "code",
      "source": [
        "class NegativeNumberError(Exception):\n",
        "    pass # 예외 정의를 해야함 (정의하지 않으면 존재하지 않는 예외 클래스)\n",
        "\n",
        "try:\n",
        "    number = int(input(\"숫자를 입력해주세요\"))\n",
        "    if number < 0:\n",
        "        raise NegativeNumberError #코드를 얼추 짜보긴 했으나 raise 누락 및 if문 쓸 생각을 못 함 ㅠ\n",
        "    print(number)\n",
        "except NegativeNumberError:\n",
        "    print(\"양수를 입력해주세요\")"
      ],
      "metadata": {
        "colab": {
          "base_uri": "https://localhost:8080/"
        },
        "id": "GpcDiQ5ARNuA",
        "outputId": "a3ec8b6d-194d-4ac1-c1f2-c209fad8b124"
      },
      "execution_count": null,
      "outputs": [
        {
          "output_type": "stream",
          "name": "stdout",
          "text": [
            "숫자를 입력해주세요-7\n",
            "양수를 입력해주세요\n"
          ]
        }
      ]
    },
    {
      "cell_type": "markdown",
      "metadata": {
        "id": "xuCT98foBIQa"
      },
      "source": [
        "---"
      ]
    },
    {
      "cell_type": "markdown",
      "metadata": {
        "id": "Hls-X58yBIQa"
      },
      "source": [
        "[문제 5]\n",
        "\n",
        "datetime 모듈을 사용하여 현재 날짜와 시간을 출력하는 프로그램을 작성하세요.\n",
        "\n",
        "또한, 사용자로부터 태어난 년도를 입력받아 현재 나이를 계산하여 출력하세요."
      ]
    },
    {
      "cell_type": "code",
      "execution_count": null,
      "metadata": {
        "colab": {
          "base_uri": "https://localhost:8080/"
        },
        "id": "Fn2xu8k8BIQa",
        "outputId": "f53c9cd4-a017-4f08-f88c-354f941d9da2"
      },
      "outputs": [
        {
          "output_type": "stream",
          "name": "stdout",
          "text": [
            "출생연도를 입력해주세요1992\n",
            "2025-06-09 06:18:35.418549\n",
            "33\n"
          ]
        }
      ],
      "source": [
        "import datetime\n",
        "\n",
        "현재_시간 = datetime.datetime.now()\n",
        "출생년도 = int(input(\"출생연도를 입력해주세요\"))\n",
        "\n",
        "\n",
        "print(현재_시간)\n",
        "#print(출생년도 - datetime.year)\n",
        "print(현재_시간.year - 출생년도)"
      ]
    },
    {
      "cell_type": "markdown",
      "metadata": {
        "id": "BamT9xXhBIQa"
      },
      "source": [
        "---"
      ]
    },
    {
      "cell_type": "code",
      "source": [
        "!pip install requests"
      ],
      "metadata": {
        "colab": {
          "base_uri": "https://localhost:8080/"
        },
        "id": "X87AZVN4W4Hg",
        "outputId": "bb53a106-6495-4f67-d263-137f7671cb4d"
      },
      "execution_count": null,
      "outputs": [
        {
          "output_type": "stream",
          "name": "stdout",
          "text": [
            "Requirement already satisfied: requests in /usr/local/lib/python3.11/dist-packages (2.32.3)\n",
            "Requirement already satisfied: charset-normalizer<4,>=2 in /usr/local/lib/python3.11/dist-packages (from requests) (3.4.2)\n",
            "Requirement already satisfied: idna<4,>=2.5 in /usr/local/lib/python3.11/dist-packages (from requests) (3.10)\n",
            "Requirement already satisfied: urllib3<3,>=1.21.1 in /usr/local/lib/python3.11/dist-packages (from requests) (2.4.0)\n",
            "Requirement already satisfied: certifi>=2017.4.17 in /usr/local/lib/python3.11/dist-packages (from requests) (2025.4.26)\n"
          ]
        }
      ]
    },
    {
      "cell_type": "markdown",
      "metadata": {
        "id": "otQb_TxyBIQa"
      },
      "source": [
        "[문제 6]\n",
        "\n",
        "requests 모듈을 사용하여, 웹 페이지의 HTML을 가져오는 간단한 웹 스크레이퍼를 작성하세요.\n",
        "\n",
        "'https://kream.co.kr/'에서<br>\n",
        "데이터를 가져와서 상태 코드와 HTML의 첫 100자를 출력하세요.<br>\n",
        "(실습 전 requests 모듈을 설치해야 함)"
      ]
    },
    {
      "cell_type": "code",
      "execution_count": null,
      "metadata": {
        "colab": {
          "base_uri": "https://localhost:8080/"
        },
        "id": "6rVvNgMzBIQa",
        "outputId": "b261de03-4973-4063-a8cc-369ca595df6e"
      },
      "outputs": [
        {
          "output_type": "stream",
          "name": "stdout",
          "text": [
            "상태 코드: 500\n",
            "<!DOCTYPE html>\n",
            "<html lang=\"ko\">\n",
            "<head>\n",
            "<meta name=\"robots\" content=\"noindex, nofollow\" />\n",
            "<meta htt\n"
          ]
        }
      ],
      "source": [
        "import requests\n",
        "\n",
        "url = 'https://kream.co.kr/'\n",
        "\n",
        "headers = {\n",
        "    'user-agent' : \"Mozilla/5.0\" #운영체제임\n",
        "}\n",
        "\n",
        "page_data = requests.get(url, headers=headers)\n",
        "\n",
        "print(\"상태 코드:\",page_data.status_code)\n",
        "\n",
        "print(page_data.text[:100])"
      ]
    },
    {
      "cell_type": "markdown",
      "metadata": {
        "id": "1g0_UR7lBIQa"
      },
      "source": [
        "---"
      ]
    },
    {
      "cell_type": "markdown",
      "metadata": {
        "id": "WlbNCiOfBIQb"
      },
      "source": [
        "[문제 7]\n",
        "\n",
        "함수 실행 시간을 측정하는 데코레이터 timer_decorator를 작성하세요.\n",
        "\n",
        "임의의 함수가 실행되는 시간을 측정하여 \"함수 실행 시간: x.xx초\" 형태로 출력하세요."
      ]
    },
    {
      "cell_type": "code",
      "execution_count": null,
      "metadata": {
        "colab": {
          "base_uri": "https://localhost:8080/"
        },
        "id": "0kGacVJeBIQb",
        "outputId": "25c3e35c-fdaa-4c64-e1f2-74189014b3d2"
      },
      "outputs": [
        {
          "output_type": "stream",
          "name": "stdout",
          "text": [
            "함수 실행 시간 : 0.05초\n"
          ]
        },
        {
          "output_type": "execute_result",
          "data": {
            "text/plain": [
              "499999500000"
            ]
          },
          "metadata": {},
          "execution_count": 57
        }
      ],
      "source": [
        "#GPT와 학습 중 .. ing / 정답지 코드 분석 후 코드 작성\n",
        "\n",
        "import time #time 모듈 불러오기!\n",
        "\n",
        "def timer_decorator(func): #데코레이터 함수 정의\n",
        "    def wrapper(*args,**kwargs): #warpper : func() 를 대신 실행할 함수 / args, kwargs는 어떠한 인자든 다 받을 수 있게 만들어줌\n",
        "        start_time = time.time() #함수 실행 전 시간\n",
        "        result = func(*args, **kwargs)  #결과값\n",
        "        end_time = time.time() #실행 후 끝난 시간\n",
        "        print(f'함수 실행 시간 : {end_time - start_time:.2f}초') # 실행에 걸린 시간을 소수점 둘째자리까지 출력\n",
        "        return result #실행 결과 돌려주기\n",
        "    return wrapper\n",
        "\n",
        "\n",
        "@timer_decorator\n",
        "def example_function(): #timer_decorator를 감싸라는 것 (example_function = timer_decorator(example_function))\n",
        "    sum = 0\n",
        "    for i in range(1000000):\n",
        "        sum += i\n",
        "    return sum\n",
        "\n",
        "example_function()\n",
        "\n",
        "#아주 마지막까지 들여쓰기 오류네... 어휴!\n"
      ]
    },
    {
      "cell_type": "markdown",
      "metadata": {
        "id": "nHgvD5ExBIQb"
      },
      "source": [
        "---"
      ]
    },
    {
      "cell_type": "markdown",
      "metadata": {
        "id": "J3pttul_BIQb"
      },
      "source": [
        "[문제 8]\n",
        "\n",
        "여러분이 자주 사용하는 수학적 연산<br>\n",
        "(예: 삼각형 넓이, 원의 넓이, 직육면체의 넓이)을 수행하는 함수들을 포함하는 mymath.py라는 이름의 모듈을 만드세요.\n",
        "\n",
        "이 모듈을 사용하여 작성된 함수들을 실제로 임포트하고 사용하는 간단한 프로그램을 작성하세요."
      ]
    },
    {
      "cell_type": "code",
      "execution_count": null,
      "metadata": {
        "colab": {
          "base_uri": "https://localhost:8080/"
        },
        "id": "tRZmn5J0BIQb",
        "outputId": "8aa15fb3-1757-449a-c1b7-ee7beb0a60ce"
      },
      "outputs": [
        {
          "output_type": "stream",
          "name": "stdout",
          "text": [
            "Overwriting mymath.py\n"
          ]
        }
      ],
      "source": [
        "%%writefile mymath.py\n",
        "import math\n",
        "\n",
        "def triangle_area(base, height):\n",
        "    return 0.5 * base * height\n",
        "\n",
        "def circle_area(radius):\n",
        "    return math.pi * radius ** 2\n",
        "\n",
        "def cuboid_area(length, width, height):\n",
        "    return 2 * (length * width + width * height + height * length)\n",
        "\n"
      ]
    },
    {
      "cell_type": "code",
      "source": [
        "import importlib\n",
        "import mymath as mm\n",
        "importlib.reload(mm)"
      ],
      "metadata": {
        "colab": {
          "base_uri": "https://localhost:8080/"
        },
        "id": "e7yKIn4XECcp",
        "outputId": "f2cdb58c-ae99-4512-9ff3-939c571431c9"
      },
      "execution_count": null,
      "outputs": [
        {
          "output_type": "execute_result",
          "data": {
            "text/plain": [
              "<module 'mymath' from '/content/mymath.py'>"
            ]
          },
          "metadata": {},
          "execution_count": 36
        }
      ]
    },
    {
      "cell_type": "code",
      "execution_count": null,
      "metadata": {
        "colab": {
          "base_uri": "https://localhost:8080/"
        },
        "id": "glOAvn5tBIQb",
        "outputId": "8d24e812-e4f9-4a9c-9acb-1b1b6c0dcdd7"
      },
      "outputs": [
        {
          "output_type": "stream",
          "name": "stdout",
          "text": [
            "삼각형의 넓이: 32.5\n",
            "원의 넓이: 50.26548245743669\n",
            "직육면체 넓이: 450\n"
          ]
        }
      ],
      "source": [
        "print(\"삼각형의 넓이:\", mm.triangle_area(5, 13))\n",
        "print(\"원의 넓이:\", mm.circle_area(4))\n",
        "print(\"직육면체 넓이:\", mm.cuboid_area(15, 3, 10))\n",
        "\n",
        "\n",
        "#와 지피티랑 왜 오류가 나는지 계속 머리 맞대고 했다... 이게 맞냐...?!"
      ]
    },
    {
      "cell_type": "markdown",
      "metadata": {
        "id": "FqqjglZ3BIQb"
      },
      "source": [
        "---"
      ]
    },
    {
      "cell_type": "markdown",
      "metadata": {
        "id": "J4ThXCKFBIQb"
      },
      "source": [
        "[문제 9]\n",
        "\n",
        "animals라는 패키지를 만들고, 이 패키지 내에 mammals, birds라는 두 개의 서브 모듈을 생성하세요.\n",
        "\n",
        "- 각 모듈에는 최소한 한 개 이상의 동물에 관한 클래스를 정의하세요<br>\n",
        "  (예: mammals에는 Dog, birds에는 Eagle)\n",
        "- 이 패키지와 모듈을 사용하여 동물들의 정보를 출력하는 프로그램을 작성\n",
        "\n",
        "폴더 및 파일 구조\n",
        "```\n",
        "animals/(폴더)\n",
        "├── __init__.py\n",
        "├── mammals.py\n",
        "└── birds.py\n",
        "```\n"
      ]
    },
    {
      "cell_type": "code",
      "execution_count": null,
      "metadata": {
        "id": "lom_BXhtBIQb"
      },
      "outputs": [],
      "source": []
    },
    {
      "cell_type": "code",
      "execution_count": null,
      "metadata": {
        "id": "Aepa6Df6BIQb"
      },
      "outputs": [],
      "source": []
    },
    {
      "cell_type": "code",
      "execution_count": null,
      "metadata": {
        "id": "wF-jM-U1BIQb"
      },
      "outputs": [],
      "source": []
    },
    {
      "cell_type": "markdown",
      "metadata": {
        "id": "WzhOxHEQBIQb"
      },
      "source": [
        "---"
      ]
    }
  ],
  "metadata": {
    "language_info": {
      "name": "python"
    },
    "colab": {
      "provenance": [],
      "include_colab_link": true
    },
    "kernelspec": {
      "name": "python3",
      "display_name": "Python 3"
    }
  },
  "nbformat": 4,
  "nbformat_minor": 0
}