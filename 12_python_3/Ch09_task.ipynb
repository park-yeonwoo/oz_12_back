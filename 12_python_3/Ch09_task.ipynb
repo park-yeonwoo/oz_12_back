{
  "cells": [
    {
      "cell_type": "markdown",
      "metadata": {
        "id": "view-in-github",
        "colab_type": "text"
      },
      "source": [
        "<a href=\"https://colab.research.google.com/github/park-yeonwoo/oz_12_back/blob/main/Ch09_task.ipynb\" target=\"_parent\"><img src=\"https://colab.research.google.com/assets/colab-badge.svg\" alt=\"Open In Colab\"/></a>"
      ]
    },
    {
      "cell_type": "markdown",
      "metadata": {
        "id": "WMCZU2Wd21AC"
      },
      "source": [
        "<span style=\"font-size:100%\">\n",
        "\n",
        "수업은 모두 열심히 들으셨나요?\n",
        "\n",
        "간혹 강의에서 언급되지 않은 내용이 문제로 나올 수 있습니다.<br>\n",
        "그럴땐 강의 내용 외 문제는 구글링을 통해 해결해주세요<br></span>\n",
        "<span style=\"font-size:80%\">\n",
        "(구글링 또한 개발자가 갖쳐야할 역량 중에 하나랍니다 😊)\n",
        "</span>\n",
        "\n",
        "---"
      ]
    },
    {
      "cell_type": "markdown",
      "metadata": {
        "id": "P0X_DTje21AE"
      },
      "source": [
        "### Chapter09 : `Python의 입력과 출력 방식에 대해 알아보고 문제를 해결해보자`"
      ]
    },
    {
      "cell_type": "markdown",
      "metadata": {
        "id": "ZbVhsBFt21AE"
      },
      "source": [
        "<span style=\"font-size:80%\">[문제1]<br><br></span>\n",
        "아래 코드의 실행 결과로 올바른 것을 골라주세요<br>\n",
        "\n",
        "print(' * ', ' * ', ' * ', ' * ', ' * ', ' * ', sep='x')\n",
        "\n",
        "```\n",
        "1. x*x*x*x*x*x*\n",
        "2. ******\n",
        "3. ***x***\n",
        "4. *x*x*x*x*x*\n",
        "```"
      ]
    },
    {
      "cell_type": "markdown",
      "metadata": {
        "id": "0NeW2tRt21AE"
      },
      "source": [
        "<span style=\"color:red\">답변</span>"
      ]
    },
    {
      "cell_type": "markdown",
      "metadata": {
        "id": "02Y3VPAp21AE"
      },
      "source": [
        "1"
      ]
    },
    {
      "cell_type": "markdown",
      "metadata": {
        "id": "24nzBRrH21AF"
      },
      "source": [
        "----"
      ]
    },
    {
      "cell_type": "markdown",
      "metadata": {
        "id": "vMRgFXZY21AF"
      },
      "source": [
        "<span style=\"font-size:80%\">[문제2]<br><br></span>\n",
        "두 개의 값을 입력 받아 실수로 x와 y 변수에 저장하는 코드를 골라 주세요\n",
        "\n",
        "\n",
        "1. x, y = input('실수를 입력하세요: ')\n",
        "2. x, y = input('실수를 입력하세요: ').split()\n",
        "3. x = input('실수를 입력하세요'); y = input('실수를 입력하세요')\n",
        "4. x, y = map(float, input('실수를 입력하세요: ').split())"
      ]
    },
    {
      "cell_type": "markdown",
      "metadata": {
        "id": "1NovqoLx21AF"
      },
      "source": [
        "<span style=\"color:red\">답변</span>"
      ]
    },
    {
      "cell_type": "markdown",
      "metadata": {
        "id": "eAxT-hTD21AF"
      },
      "source": [
        "4"
      ]
    },
    {
      "cell_type": "markdown",
      "metadata": {
        "id": "6AD82SFS21AF"
      },
      "source": [
        "----"
      ]
    },
    {
      "cell_type": "markdown",
      "metadata": {
        "id": "pp__Etb221AF"
      },
      "source": [
        "<span style=\"font-size:80%\">[문제3]<br><br></span>\n",
        "\n",
        "아래와 같이 주어졌을때 실행 결과와 동일하게 출력되기 위해 1)과 2) 들어갈 코드를 작성해주세요\n",
        "\n",
        "```\n",
        "month = 12\n",
        "day = 25\n",
        "hour = 12\n",
        "minute = 30\n",
        "\n",
        "print(month, day, 1)________)\n",
        "print(hour, minute, 2)_______)\n",
        "\n",
        "```\n",
        "\n",
        "실행 결과 : 1) 12.25,   2) 12:30"
      ]
    },
    {
      "cell_type": "markdown",
      "metadata": {
        "id": "9LQDGG5Y21AF"
      },
      "source": [
        "<span style=\"color:red\">답변</span>"
      ]
    },
    {
      "cell_type": "markdown",
      "metadata": {
        "id": "_WniHA_q21AF"
      },
      "source": [
        "1) sep =, end, 2) sep ="
      ]
    },
    {
      "cell_type": "markdown",
      "metadata": {
        "id": "4OwnycAU21AG"
      },
      "source": [
        "----"
      ]
    },
    {
      "cell_type": "markdown",
      "metadata": {
        "id": "voZ_L5NN21AG"
      },
      "source": [
        "### Chapter10 : `Python의 시퀀스 자료형 중 하나인 list에 대해 알아보고 문제를 해결해보자`"
      ]
    },
    {
      "cell_type": "markdown",
      "metadata": {
        "id": "NtdOWOhY21AG"
      },
      "source": [
        "<span style=\"font-size:80%\">[문제1]<br><br></span>\n",
        "아래 리스트에 들어있는 값의 평균을 구하는 코드를 작성해주세요\n",
        "\n",
        "x = [34, 22, 10, 3, 55, 66]"
      ]
    },
    {
      "cell_type": "markdown",
      "metadata": {
        "id": "1Z84yKwA21AG"
      },
      "source": [
        "<span style=\"color:red\">답변</span>"
      ]
    },
    {
      "cell_type": "code",
      "source": [
        "x = [34, 22, 10, 3, 55, 66]\n",
        "\n",
        "평균값 = sum(x) / len(x)\n",
        "\n",
        "print(평균값)"
      ],
      "metadata": {
        "colab": {
          "base_uri": "https://localhost:8080/"
        },
        "id": "33dfFzw77AD5",
        "outputId": "b483e41c-006f-4ebe-d381-7b6eba5de6fd"
      },
      "execution_count": 1,
      "outputs": [
        {
          "output_type": "stream",
          "name": "stdout",
          "text": [
            "31.666666666666668\n"
          ]
        }
      ]
    },
    {
      "cell_type": "markdown",
      "metadata": {
        "id": "sbHyX1eE21AG"
      },
      "source": [
        "----"
      ]
    },
    {
      "cell_type": "markdown",
      "metadata": {
        "id": "EItiak8121AG"
      },
      "source": [
        "<span style=\"font-size:80%\">[문제2]<br><br></span>\n",
        "리스트 안에 있는 데이터를 오름차순으로 정렬하는 메소드를 모두 골라주세요\n",
        "\n",
        "1. upper()\n",
        "2. low()\n",
        "3. sort()\n",
        "4. hight()\n",
        "5. sorted()"
      ]
    },
    {
      "cell_type": "markdown",
      "metadata": {
        "id": "b9Z9zhZ221AG"
      },
      "source": [
        "<span style=\"color:red\">답변</span>"
      ]
    },
    {
      "cell_type": "markdown",
      "metadata": {
        "id": "J60H0Fnt21AG"
      },
      "source": [
        "3"
      ]
    },
    {
      "cell_type": "markdown",
      "metadata": {
        "id": "QaAuoiLy21AG"
      },
      "source": [
        "----"
      ]
    },
    {
      "cell_type": "markdown",
      "metadata": {
        "id": "pUvZs2jF21AG"
      },
      "source": [
        "<span style=\"font-size:80%\">[문제3]<br><br></span>\n",
        "리스트 x가 있을 때 x.append(7)과 결과가 동일한 것을 모두 골라주세요\n",
        "\n",
        "\n",
        "1. x[-1:] = [7]\n",
        "2. x.insert(len(x), 7)\n",
        "3. x[0:] = 7\n",
        "4. x[len(x):] = 7\n",
        "5. x[len(x):] = [7]"
      ]
    },
    {
      "cell_type": "markdown",
      "metadata": {
        "id": "8IzlBWO221AG"
      },
      "source": [
        "<span style=\"color:red\">답변</span>"
      ]
    },
    {
      "cell_type": "markdown",
      "metadata": {
        "id": "6xi5wTc421AG"
      },
      "source": [
        "2"
      ]
    },
    {
      "cell_type": "markdown",
      "metadata": {
        "id": "UDv28_7I21AG"
      },
      "source": [
        "----"
      ]
    },
    {
      "cell_type": "markdown",
      "metadata": {
        "id": "_amiiuCP21AG"
      },
      "source": [
        "<span style=\"font-size:80%\">[문제4]<br><br></span>\n",
        "리스트의 모든 요소를 삭제하는 메서드를 골라주세요\n",
        "\n",
        "1. remove\n",
        "2. clean\n",
        "3. pop\n",
        "4. clear\n",
        "5. reverse"
      ]
    },
    {
      "cell_type": "markdown",
      "metadata": {
        "id": "9fZgUq1U21AG"
      },
      "source": [
        "<span style=\"color:red\">답변</span>"
      ]
    },
    {
      "cell_type": "markdown",
      "metadata": {
        "id": "A9Dl06m821AG"
      },
      "source": [
        "4"
      ]
    },
    {
      "cell_type": "markdown",
      "metadata": {
        "id": "UJX5eM3I21AG"
      },
      "source": [
        "----"
      ]
    },
    {
      "cell_type": "markdown",
      "metadata": {
        "id": "ZCYvkqv621AG"
      },
      "source": [
        "<span style=\"font-size:80%\">[문제5]<br><br></span>\n",
        "[3.1, 6.7, 4.4]가 들어있는 리스트의 값을 문자열로 변환 후 다시 리스트로 만들어 변수 x에 담는 코드를 골라주세요\n",
        "\n",
        "1. x = list(str, [3.1, 6.7, 4.4])\n",
        "2. x = map(str, [3.1, 6.7, 4.4])\n",
        "3. x = str([3.1, 6.7, 4.4])\n",
        "4. x = list(map(str, [3.1, 6.7, 4.4]))\n",
        "5. x = map(int, [3.1, 6.7, 4.4])"
      ]
    },
    {
      "cell_type": "markdown",
      "metadata": {
        "id": "6YpThtvi21AG"
      },
      "source": [
        "<span style=\"color:red\">답변</span>"
      ]
    },
    {
      "cell_type": "markdown",
      "metadata": {
        "id": "mqrXJw-P21AG"
      },
      "source": [
        "5"
      ]
    },
    {
      "cell_type": "markdown",
      "metadata": {
        "id": "yIOtS2I421AG"
      },
      "source": [
        "### Chapter11 : `Python의 시퀀스 자료형 중 하나인 tuple에 대해 알아보고 문제를 해결해보자`"
      ]
    },
    {
      "cell_type": "markdown",
      "metadata": {
        "id": "S_1998bc21AG"
      },
      "source": [
        "<span style=\"font-size:80%\">[문제1]<br><br></span>\n",
        "tuple과 list의 차이점으로 올바른 것을 모두 골라주세요\n",
        "\n",
        "1. list만 인덱싱이 가능해 원하는 값을 인덱스로 추출할 수 있다.\n",
        "2. tuple은 불변이고 list는 가변이다.\n",
        "3. tuple은 소괄호( () )를 사용하고 리스트는 대괄호( [ ] )를 사용한다.\n",
        "4. 튜플은 입출력이 자주 발행하는 경우 사용하고 리스트는 입출력이 자주 발생하지 않는 상황에 사용한다"
      ]
    },
    {
      "cell_type": "markdown",
      "metadata": {
        "id": "hexV3sjN21AG"
      },
      "source": [
        "<span style=\"color:red\">답변</span>"
      ]
    },
    {
      "cell_type": "markdown",
      "metadata": {
        "id": "8PbnXTBl21AH"
      },
      "source": [
        "2,3"
      ]
    },
    {
      "cell_type": "markdown",
      "metadata": {
        "id": "glpgzpVo21AH"
      },
      "source": [
        "----"
      ]
    },
    {
      "cell_type": "markdown",
      "metadata": {
        "id": "N6X9P7FD21AK"
      },
      "source": [
        "<span style=\"font-size:80%\">[문제2]<br><br></span>\n",
        "tuple a에 사용할 수 없는 코드를 골라주세요<br>\n",
        "a = (20, 10, 15)\n",
        "\n",
        "1. print(a[:])\n",
        "2. a.pop()\n",
        "3. sum(a)\n",
        "4. a.count(20)"
      ]
    },
    {
      "cell_type": "markdown",
      "metadata": {
        "id": "Zw6A9QFM21AK"
      },
      "source": [
        "<span style=\"color:red\">답변</span>"
      ]
    },
    {
      "cell_type": "markdown",
      "metadata": {
        "id": "T9pbo8yW21AK"
      },
      "source": [
        "2"
      ]
    },
    {
      "cell_type": "markdown",
      "metadata": {
        "id": "PlXKgcnY21AK"
      },
      "source": [
        "----"
      ]
    },
    {
      "cell_type": "markdown",
      "metadata": {
        "id": "y48KfYeT21AK"
      },
      "source": [
        "<span style=\"font-size:80%\">[문제3]<br><br></span>\n",
        "아래 코드를 실행시켰을 때 발생하는 상황과 원인을 간략히 설명해주세요\n",
        "\n",
        "```\n",
        "바구니 = ( \"상추\", \"깻잎\", \"삼겹살\")\n",
        "바구니[1] = \"고사리\"\n",
        "```"
      ]
    },
    {
      "cell_type": "markdown",
      "metadata": {
        "id": "lceiI_AP21AK"
      },
      "source": [
        "<span style=\"color:red\">답변</span>"
      ]
    },
    {
      "cell_type": "markdown",
      "metadata": {
        "id": "Skpbho6121AK"
      },
      "source": [
        "해당 바구니는 튜플이어서 불변입니다. 그래서 만약 변경을 하고 싶으면 리스트로 변경후 처리되어야 합니다."
      ]
    },
    {
      "cell_type": "markdown",
      "metadata": {
        "id": "EKtBYer321AK"
      },
      "source": [
        "### Chapter12 : `Python의 시퀀스 자료형 중 하나인 dict에 대해 알아보고 문제를 해결해보자`"
      ]
    },
    {
      "cell_type": "markdown",
      "metadata": {
        "id": "Zx_d71lv21AK"
      },
      "source": [
        "<span style=\"font-size:80%\">[문제1]<br><br></span>\n",
        "딕셔너리 x에서 키에 해당하는 값을 모두 삭제하는 방법으로 옳은 것을 모두 골라주세요\n",
        "\n",
        "x = {'banana':3000, 'apple':1500, 'orange':2000}\n",
        "\n",
        "1. x.pop('apple')\n",
        "2. x.remove('python')\n",
        "3. del x['orange']\n",
        "4. x.popitem()"
      ]
    },
    {
      "cell_type": "markdown",
      "metadata": {
        "id": "toycqceq21AK"
      },
      "source": [
        "<span style=\"color:red\">답변</span>"
      ]
    },
    {
      "cell_type": "markdown",
      "metadata": {
        "id": "oFFSvHSA21AK"
      },
      "source": [
        "2,3"
      ]
    },
    {
      "cell_type": "markdown",
      "metadata": {
        "id": "w4-e5eH821AK"
      },
      "source": [
        "----"
      ]
    },
    {
      "cell_type": "markdown",
      "metadata": {
        "id": "rmILqK9P21AL"
      },
      "source": [
        "<span style=\"font-size:80%\">[문제2]<br><br></span>\n",
        "딕셔너리의 메서드에 대한 설명으로 올바르지 않은 것을 모두 고르세요<br>\n",
        "\n",
        "1. setdefault는 키만 지정하면 값은 0으로 저장한다.\n",
        "2. update는 딕셔너리에서 키의 value 값을 수정한다.\n",
        "3. keys는 딕셔너리의 키-값 쌍을 모두 가져온다.\n",
        "4. clear는 딕셔너리의 모든 키-값 쌍을 삭제한다.\n",
        "5. setdefault에 키와 값을 넣어 실행하면 기존 딕셔너리에 없는 키값일 경우 키-값 쌍을 추가한다."
      ]
    },
    {
      "cell_type": "markdown",
      "metadata": {
        "id": "Sba3bi3021AL"
      },
      "source": [
        "<span style=\"color:red\">답변</span>"
      ]
    },
    {
      "cell_type": "markdown",
      "metadata": {
        "id": "imL-t7qq21AL"
      },
      "source": [
        "1,3"
      ]
    },
    {
      "cell_type": "markdown",
      "metadata": {
        "id": "ytYd27Uy21AL"
      },
      "source": [
        "----"
      ]
    },
    {
      "cell_type": "markdown",
      "metadata": {
        "id": "79LmUaca21AL"
      },
      "source": [
        "<span style=\"font-size:80%\">[문제3]<br><br></span>\n",
        "평균 점수를 구하는 코드를 result 변수에 작성해주세요\n",
        "\n",
        "```\n",
        "ozkim = { \"국어\" : 90, \"'수학\" : 80, \"과학\" : 82, \"영어\" : 72 }\n",
        "result =\n",
        "print(result)\n",
        "```"
      ]
    },
    {
      "cell_type": "markdown",
      "metadata": {
        "id": "V6Ahdsdg21AL"
      },
      "source": [
        "<span style=\"color:red\">답변</span>"
      ]
    },
    {
      "cell_type": "markdown",
      "metadata": {
        "id": "nisNKJJ621AL"
      },
      "source": [
        "sum(ozkim.values()) / len(ozkim)"
      ]
    },
    {
      "cell_type": "markdown",
      "metadata": {
        "id": "37O52Sj_21AL"
      },
      "source": [
        "----"
      ]
    },
    {
      "cell_type": "markdown",
      "metadata": {
        "id": "IVfiOFoW21AL"
      },
      "source": [
        "<span style=\"font-size:80%\">[문제4]<br><br></span>\n",
        "상자 딕셔너리에 아래 데이터를 추가하는 코드를 작성해 주세요\n",
        "\n",
        "```\n",
        "상자 = {\"아디다스\": [\"신발\", \"2개\"],\n",
        "            \"나이키\": [\"모자\", \"5개\"],\n",
        "            \"뉴발란스\": [\"가방\", \"1개\"]}\n",
        "````\n",
        "\n",
        "입력할 데이터 : 칼하트 / 후드티 / 2벌"
      ]
    },
    {
      "cell_type": "markdown",
      "metadata": {
        "id": "wK9IUGux21AL"
      },
      "source": [
        "<span style=\"color:red\">답변</span>"
      ]
    },
    {
      "cell_type": "markdown",
      "metadata": {
        "id": "uRtGcFzS21AL"
      },
      "source": [
        "상자[’칼하트’] = [’후드티’, ‘2벌’]"
      ]
    },
    {
      "cell_type": "markdown",
      "metadata": {
        "id": "T5SKTeJP21AL"
      },
      "source": [
        "----"
      ]
    },
    {
      "cell_type": "markdown",
      "metadata": {
        "id": "kP5s3Ord21AL"
      },
      "source": [
        "<span style=\"font-size:80%\">[문제5]<br><br></span>\n",
        "아래 keys 변수와 vals 변수에 들어있는 값을 이용해 agency_dict라는 딕셔너리를 만드는 코드를 작성해주세요\n",
        "\n",
        "```\n",
        "keys = [\"뉴진스\", \"아이브\", \"에스파\"]\n",
        "vals = [\"하이브\" , \"스타쉽\", \"SM\"]\n",
        "```"
      ]
    },
    {
      "cell_type": "markdown",
      "metadata": {
        "id": "irS_bu-521AL"
      },
      "source": [
        "<span style=\"color:red\">답변</span>"
      ]
    },
    {
      "cell_type": "code",
      "source": [
        "keys = [\"뉴진스\", \"아이브\", \"에스파\"]\n",
        "vals = [\"하이브\" , \"스타쉽\", \"SM\"]\n",
        "\n",
        "agency_dict = dict(zip(keys, vals))\n",
        "\n",
        "print(agency_dict)"
      ],
      "metadata": {
        "colab": {
          "base_uri": "https://localhost:8080/"
        },
        "id": "ZBuefCruCw3w",
        "outputId": "4d83ecb9-62fb-4a86-8896-0ce0e435d66f"
      },
      "execution_count": 3,
      "outputs": [
        {
          "output_type": "stream",
          "name": "stdout",
          "text": [
            "{'뉴진스': '하이브', '아이브': '스타쉽', '에스파': 'SM'}\n"
          ]
        }
      ]
    },
    {
      "cell_type": "markdown",
      "metadata": {
        "id": "zhp1G5d721AL"
      },
      "source": [
        "### Chapter13 : `Python의 시퀀스 자료형 중 하나인 set에 대해 알아보고 문제를 해결해보자`"
      ]
    },
    {
      "cell_type": "markdown",
      "metadata": {
        "id": "ALP0yDX321AL"
      },
      "source": [
        "<span style=\"font-size:80%\">[문제1]<br><br></span>\n",
        "세트 money의 결과로 올바른 것을 골라주세요\n",
        "\n",
        "money = { '만원', '만원', '오만원', '백원', '오만원', '십원' }\n",
        "\n",
        "1. { '백원', '십원' }\n",
        "2. {'만원', '백원', '십원', '오만원'}\n",
        "3. {'만원', '백원', '십원'}\n",
        "4. {'만원',  '오만원'}"
      ]
    },
    {
      "cell_type": "markdown",
      "metadata": {
        "id": "qeJ0teKg21AL"
      },
      "source": [
        "<span style=\"color:red\">답변</span>"
      ]
    },
    {
      "cell_type": "code",
      "source": [
        "money = { '만원', '만원', '오만원', '백원', '오만원', '십원' }\n",
        "\n",
        "print(money)"
      ],
      "metadata": {
        "colab": {
          "base_uri": "https://localhost:8080/"
        },
        "id": "Hwy6cbbaEi0D",
        "outputId": "642d9cea-a380-4222-ef1f-f6d506e53bc3"
      },
      "execution_count": 4,
      "outputs": [
        {
          "output_type": "stream",
          "name": "stdout",
          "text": [
            "{'만원', '오만원', '십원', '백원'}\n"
          ]
        }
      ]
    },
    {
      "cell_type": "markdown",
      "metadata": {
        "id": "wQ7rJ3Rc21AL"
      },
      "source": [
        "2"
      ]
    },
    {
      "cell_type": "markdown",
      "metadata": {
        "id": "ggtKw0Ts21AL"
      },
      "source": [
        "----"
      ]
    },
    {
      "cell_type": "markdown",
      "metadata": {
        "id": "ukk0i1uK21AL"
      },
      "source": [
        "<span style=\"font-size:80%\">[문제2]<br><br></span>\n",
        "세트 x = {3, 6, 9} 그리고 y = {1, 2, 3}가 있을 때, 집합 연산의 결과로 잘못된 것을 모두 고르세요\n",
        "\n",
        "1. set.union(x, y)는 {1, 2, 3, 6, 9}\n",
        "2. x ^ y는 {1, 3, 6}\n",
        "3. x - y는 {6, 9}\n",
        "4. x & y는 { 3 }\n",
        "5. set.difference(y, x)는 { 2 }"
      ]
    },
    {
      "cell_type": "markdown",
      "metadata": {
        "id": "JbaTAWlN21AM"
      },
      "source": [
        "<span style=\"color:red\">답변</span>"
      ]
    },
    {
      "cell_type": "markdown",
      "metadata": {
        "id": "l0YsQV6b21AM"
      },
      "source": [
        "2,5"
      ]
    },
    {
      "cell_type": "markdown",
      "metadata": {
        "id": "nuZswUl-21AM"
      },
      "source": [
        "----"
      ]
    },
    {
      "cell_type": "markdown",
      "metadata": {
        "id": "te7ySDy221AM"
      },
      "source": [
        "<span style=\"font-size:80%\">[문제3]<br><br></span>\n",
        "과일 바구니 안에 두리안이 있는지 확인하기 위한 코드를 작성해 주세요\n",
        "\n",
        "과일_바구니 = {'사과', '포도', '샤인머스켓', '두리안'}"
      ]
    },
    {
      "cell_type": "markdown",
      "metadata": {
        "id": "QxP42w_Q21AM"
      },
      "source": [
        "<span style=\"color:red\">답변</span>"
      ]
    },
    {
      "cell_type": "code",
      "source": [
        "\n",
        "과일_바구니 = {'사과', '포도', '샤인머스켓', '두리안'}\n",
        "\n",
        "\n",
        "'두리안' in 과일_바구니"
      ],
      "metadata": {
        "colab": {
          "base_uri": "https://localhost:8080/"
        },
        "id": "Tv2rrOZME5UM",
        "outputId": "553c230b-8aa8-43ae-e3ca-25f1c56db107"
      },
      "execution_count": 9,
      "outputs": [
        {
          "output_type": "execute_result",
          "data": {
            "text/plain": [
              "True"
            ]
          },
          "metadata": {},
          "execution_count": 9
        }
      ]
    },
    {
      "cell_type": "markdown",
      "metadata": {
        "id": "Q5-ejiD121AM"
      },
      "source": [
        "----"
      ]
    },
    {
      "cell_type": "markdown",
      "metadata": {
        "id": "DTr13HGy21AM"
      },
      "source": [
        "<span style=\"font-size:80%\">[문제4]<br><br></span>\n",
        "메서드와 연산자의 기능이 잘못 짝지어진 것을 골라주세요\n",
        "\n",
        "1. set.intersection은 &와 같다.\n",
        "2. set.update는 |=와 같다.\n",
        "3. symmetric_difference_update는 -=와 같다.\n",
        "4. issuperset은 >와 같다.\n",
        "5. set.union은 |와 같다."
      ]
    },
    {
      "cell_type": "markdown",
      "metadata": {
        "id": "DXqa4UGP21AM"
      },
      "source": [
        "<span style=\"color:red\">답변</span>"
      ]
    },
    {
      "cell_type": "markdown",
      "metadata": {
        "id": "hNRkXg4b21AM"
      },
      "source": [
        "3"
      ]
    },
    {
      "cell_type": "markdown",
      "metadata": {
        "id": "jwnEtgV521AM"
      },
      "source": [
        "----"
      ]
    },
    {
      "cell_type": "markdown",
      "metadata": {
        "id": "BbEUGH8o21AM"
      },
      "source": [
        "<span style=\"font-size:80%\">[문제5]<br><br></span>\n",
        "세트를 만드는 방법으로 올바르지 않은 것을 골라주세요\n",
        "\n",
        "1. x = {1, 2, 3, 4, 5}\n",
        "2. x = { }\n",
        "3. x = set('hello')\n",
        "4. x  = set(range(10))\n",
        "5. x = set()"
      ]
    },
    {
      "cell_type": "markdown",
      "metadata": {
        "id": "Z-oeAQlg21AM"
      },
      "source": [
        "<span style=\"color:red\">답변</span>"
      ]
    },
    {
      "cell_type": "markdown",
      "metadata": {
        "id": "LMoUa32A21AM"
      },
      "source": [
        "2"
      ]
    }
  ],
  "metadata": {
    "language_info": {
      "name": "python"
    },
    "colab": {
      "provenance": [],
      "include_colab_link": true
    },
    "kernelspec": {
      "name": "python3",
      "display_name": "Python 3"
    }
  },
  "nbformat": 4,
  "nbformat_minor": 0
}
