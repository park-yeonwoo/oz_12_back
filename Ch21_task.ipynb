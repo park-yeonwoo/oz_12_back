{
  "cells": [
    {
      "cell_type": "markdown",
      "metadata": {
        "id": "view-in-github",
        "colab_type": "text"
      },
      "source": [
        "<a href=\"https://colab.research.google.com/github/park-yeonwoo/oz_12_back/blob/main/Ch21_task.ipynb\" target=\"_parent\"><img src=\"https://colab.research.google.com/assets/colab-badge.svg\" alt=\"Open In Colab\"/></a>"
      ]
    },
    {
      "cell_type": "markdown",
      "metadata": {
        "id": "WlmtarzBD7JV"
      },
      "source": [
        "안녕하세요. 수강생 여러분~! Chapter21 ~ 32 수업은 잘 들으셨나요?\n",
        "\n",
        "Chapter21 ~ 32의 수업 내용을 바탕으로 아래 문제를 풀어주시면 됩니다.\n",
        "\n",
        "\n",
        "<br>\n",
        "\n",
        "\n",
        "[**답변 입력 방법**]\n",
        "\n",
        "문제 아래에 있는 코드 입력창에 정답코드를 작성하신 후  __▷ 버튼을 클릭해 코드를 실행__ 해보세요<br>"
      ]
    },
    {
      "cell_type": "markdown",
      "metadata": {
        "id": "hLqAcEsRD7JX"
      },
      "source": [
        "---"
      ]
    },
    {
      "cell_type": "markdown",
      "metadata": {
        "id": "ROFMqkFkD7JX"
      },
      "source": [
        "[문제 1]\n",
        "사용자로부터 이름과 나이를 입력 받아, \"안녕하세요, [이름]님! 당신은 [나이]살입니다.\"라고 출력하는 함수 greet_user를 작성하세요."
      ]
    },
    {
      "cell_type": "markdown",
      "metadata": {
        "id": "5Am4n9NkD7JX"
      },
      "source": [
        "\n",
        "    "
      ]
    },
    {
      "cell_type": "code",
      "source": [
        "def greet_user():\n",
        "    name = input('이름 입력!')\n",
        "    age = input('나이 입력!')\n",
        "    print(f'안녕하세요{name}님! 당신은 {age}살입니다.')\n",
        "\n",
        "greet_user()"
      ],
      "metadata": {
        "colab": {
          "base_uri": "https://localhost:8080/"
        },
        "id": "mt1ABCvDFk-E",
        "outputId": "75b4da97-e338-4fe1-ce61-e61cb35dbb23"
      },
      "execution_count": 2,
      "outputs": [
        {
          "output_type": "stream",
          "name": "stdout",
          "text": [
            "이름 입력!김코딩\n",
            "나이 입력!29\n",
            "안녕하세요김코딩님! 당신은 29살입니다.\n"
          ]
        }
      ]
    },
    {
      "cell_type": "markdown",
      "metadata": {
        "id": "mMzRR64ND7JX"
      },
      "source": [
        "---"
      ]
    },
    {
      "cell_type": "markdown",
      "metadata": {
        "id": "soLkQnH-D7JX"
      },
      "source": [
        "[문제 2] 여러 숫자를 입력받아 그 합계를 반환하는 함수 sum_numbers를 작성하세요. 이 때, 가변 매개변수를 사용하세요."
      ]
    },
    {
      "cell_type": "markdown",
      "metadata": {
        "id": "6NYV9-K1D7JY"
      },
      "source": []
    },
    {
      "cell_type": "code",
      "source": [
        "def sum_numbers(num1, num2):\n",
        "    print(num1 + num2)\n",
        "\n",
        "sum_numbers(3, 15)"
      ],
      "metadata": {
        "colab": {
          "base_uri": "https://localhost:8080/"
        },
        "id": "IWLZEVApGLlL",
        "outputId": "a1036b8d-0c94-47af-ec79-d3c9e0a0f812"
      },
      "execution_count": 4,
      "outputs": [
        {
          "output_type": "stream",
          "name": "stdout",
          "text": [
            "18\n"
          ]
        }
      ]
    },
    {
      "cell_type": "markdown",
      "metadata": {
        "id": "seYK2dWhD7JY"
      },
      "source": [
        "---"
      ]
    },
    {
      "cell_type": "markdown",
      "metadata": {
        "id": "iJrKCI9tD7JY"
      },
      "source": [
        "[문제 3] 사용자의 이름을 출력하는 함수 print_name을 작성하세요. 만약 이름이 주어지지 않았다면, 기본값으로 \"익명\"을 사용하세요."
      ]
    },
    {
      "cell_type": "markdown",
      "metadata": {
        "id": "Ccg2B3iSD7JY"
      },
      "source": []
    },
    {
      "cell_type": "code",
      "source": [
        "def print_name(name):\n",
        "    print(f'사용자 이름: {name}')\n",
        "\n",
        "print_name('익명')"
      ],
      "metadata": {
        "colab": {
          "base_uri": "https://localhost:8080/"
        },
        "id": "KEvpjrnSGgEY",
        "outputId": "76457ee1-5fba-43d1-90cc-d1bb9c395392"
      },
      "execution_count": 5,
      "outputs": [
        {
          "output_type": "stream",
          "name": "stdout",
          "text": [
            "사용자 이름: 익명\n"
          ]
        }
      ]
    },
    {
      "cell_type": "markdown",
      "metadata": {
        "id": "A9baoTK3D7JY"
      },
      "source": [
        "---"
      ]
    },
    {
      "cell_type": "markdown",
      "metadata": {
        "id": "MgCs_jBdD7JY"
      },
      "source": [
        "[문제 4] 사용자의 이름, 나이, 성별을 출력하는 함수 print_info를 작성하세요. 이 때, 모든 매개변수는 키워드 매개변수로만 받도록 하세요."
      ]
    },
    {
      "cell_type": "markdown",
      "metadata": {
        "id": "a-zlGCWsD7JZ"
      },
      "source": []
    },
    {
      "cell_type": "code",
      "source": [
        "def print_info(name, age, gender):\n",
        "    print(f'이름: {name}, 나이: {age}, 성별: {gender}')\n",
        "\n",
        "print_info(name='김오즈',age='27',gender='여자')"
      ],
      "metadata": {
        "colab": {
          "base_uri": "https://localhost:8080/"
        },
        "id": "dB0ZHubIGxdo",
        "outputId": "d0c0de82-2214-4bea-8df6-9aee75d76557"
      },
      "execution_count": 8,
      "outputs": [
        {
          "output_type": "stream",
          "name": "stdout",
          "text": [
            "이름: 김오즈, 나이: 27, 성별: 여자\n"
          ]
        }
      ]
    },
    {
      "cell_type": "markdown",
      "metadata": {
        "id": "08ZnY6jpD7JZ"
      },
      "source": [
        "---"
      ]
    },
    {
      "cell_type": "markdown",
      "metadata": {
        "id": "i7lWP3S_D7Ja"
      },
      "source": [
        "[문제 5] 두 개의 정수를 받아 합을 반환하는 함수 add를 작성하세요. 매개변수와 반환값에 타입 어노테이션을 추가하세요."
      ]
    },
    {
      "cell_type": "markdown",
      "metadata": {
        "id": "jrFC6RmeD7Ja"
      },
      "source": []
    },
    {
      "cell_type": "code",
      "source": [
        "def add(a:int, b:int):\n",
        "    return a+b\n",
        "\n",
        "add(5, 5)"
      ],
      "metadata": {
        "colab": {
          "base_uri": "https://localhost:8080/"
        },
        "id": "M7uL9pzTH4Rp",
        "outputId": "8056437d-ab74-4f35-e110-6ce863955f68"
      },
      "execution_count": 10,
      "outputs": [
        {
          "output_type": "execute_result",
          "data": {
            "text/plain": [
              "10"
            ]
          },
          "metadata": {},
          "execution_count": 10
        }
      ]
    },
    {
      "cell_type": "markdown",
      "metadata": {
        "id": "UM_bo9iSD7Ja"
      },
      "source": [
        "---"
      ]
    },
    {
      "cell_type": "markdown",
      "metadata": {
        "id": "7wDy842MD7Ja"
      },
      "source": [
        "[문제 6] 0부터 시작하여 n까지의 숫자 중에서 홀수만 생성하는 제너레이터 odd_numbers를 작성하세요."
      ]
    },
    {
      "cell_type": "markdown",
      "metadata": {
        "id": "8h5uiRVKD7Ja"
      },
      "source": []
    },
    {
      "cell_type": "code",
      "source": [
        "def odd_numbers(n):\n",
        "    for i in range(n + 1):\n",
        "        if i % 2 == 1:\n",
        "            yield i\n",
        "\n",
        "gen = odd_numbers(10)\n",
        "\n",
        "for num in gen:\n",
        "    print(num)\n"
      ],
      "metadata": {
        "colab": {
          "base_uri": "https://localhost:8080/"
        },
        "id": "hipesqR0IXt_",
        "outputId": "25f31252-faf3-4080-b375-ff043dd7354c"
      },
      "execution_count": 11,
      "outputs": [
        {
          "output_type": "stream",
          "name": "stdout",
          "text": [
            "1\n",
            "3\n",
            "5\n",
            "7\n",
            "9\n"
          ]
        }
      ]
    },
    {
      "cell_type": "markdown",
      "metadata": {
        "id": "u7QAxPRJD7Ja"
      },
      "source": [
        "---"
      ]
    },
    {
      "cell_type": "markdown",
      "metadata": {
        "id": "9blbJwiRD7Ja"
      },
      "source": [
        "[문제 7] 두 숫자를 더하는 람다 함수를 작성하고, 이를 변수에 할당한 후 사용하세요."
      ]
    },
    {
      "cell_type": "code",
      "source": [
        "\n",
        "sum_numbers = lambda x,y : x + y\n",
        "\n",
        "list1 = [3]\n",
        "list2 = [4]\n",
        "\n",
        "result = map(sum_numbers,list1,list2)\n",
        "\n",
        "print(list(result))"
      ],
      "metadata": {
        "colab": {
          "base_uri": "https://localhost:8080/"
        },
        "id": "nDYPk_cfMaya",
        "outputId": "6e7f5d3f-dd73-4ede-ef16-053d23881f7b"
      },
      "execution_count": 17,
      "outputs": [
        {
          "output_type": "stream",
          "name": "stdout",
          "text": [
            "[7]\n"
          ]
        }
      ]
    },
    {
      "cell_type": "markdown",
      "metadata": {
        "id": "zFln3RlGD7Ja"
      },
      "source": [
        "---"
      ]
    },
    {
      "cell_type": "markdown",
      "metadata": {
        "id": "xkctjA42D7Ja"
      },
      "source": [
        "[문제 8] 사용자로부터 3개의 숫자를 입력받아, 이를 튜플로 만든 후 최소값과 최대값을 출력하는 함수 min_max를 작성하세요."
      ]
    },
    {
      "cell_type": "code",
      "source": [
        "def min_max():\n",
        "    a = int(input())\n",
        "    b = int(input())\n",
        "    c = int(input())\n",
        "\n",
        "    num = (a, b, c)\n",
        "\n",
        "    print(f'최소값:{min(num)}')\n",
        "    print(f'최대값{max(num)}')\n",
        "\n",
        "\n",
        "min_max()\n"
      ],
      "metadata": {
        "colab": {
          "base_uri": "https://localhost:8080/"
        },
        "id": "nxZiE_JUOYCF",
        "outputId": "7a4438d5-b5e2-406e-8899-3666b6084c8a"
      },
      "execution_count": 24,
      "outputs": [
        {
          "output_type": "stream",
          "name": "stdout",
          "text": [
            "3\n",
            "5\n",
            "7\n",
            "최소값:3\n",
            "최대값7\n"
          ]
        }
      ]
    },
    {
      "cell_type": "markdown",
      "metadata": {
        "id": "oErrMOuVD7Ja"
      },
      "source": [
        "---"
      ]
    },
    {
      "cell_type": "markdown",
      "metadata": {
        "id": "lHPP5gwED7Ja"
      },
      "source": [
        "[문제 9] 주어진 숫자가 짝수인지 확인하는 함수 is_even을 작성하세요. 짝수라면 True를, 아니라면 False를 반환하세요. 함수 내에서 조기 리턴을 활용하세요."
      ]
    },
    {
      "cell_type": "code",
      "source": [
        "def is_even(n):\n",
        "    if n % 2 == 0:\n",
        "        return True\n",
        "    return False\n",
        "\n",
        "print(is_even(5))"
      ],
      "metadata": {
        "colab": {
          "base_uri": "https://localhost:8080/"
        },
        "id": "KvXBgD-HQCBf",
        "outputId": "045d84ec-4382-4e47-b210-7ab9a1f7f340"
      },
      "execution_count": 36,
      "outputs": [
        {
          "output_type": "stream",
          "name": "stdout",
          "text": [
            "False\n"
          ]
        }
      ]
    },
    {
      "cell_type": "markdown",
      "metadata": {
        "id": "FRWfb-mFD7Ja"
      },
      "source": [
        "---"
      ]
    },
    {
      "cell_type": "markdown",
      "metadata": {
        "id": "gzBp_pzRD7Ja"
      },
      "source": [
        "[문제 10] 팩토리얼을 계산하는 재귀 함수 factorial을 작성하세요."
      ]
    },
    {
      "cell_type": "markdown",
      "metadata": {
        "id": "yTNCFiQSD7Ja"
      },
      "source": [
        "oz_factorial(n) = n * factorial(n-1)\n"
      ]
    },
    {
      "cell_type": "markdown",
      "metadata": {
        "id": "qnQwMSw0D7Ja"
      },
      "source": [
        "---"
      ]
    },
    {
      "cell_type": "code",
      "source": [],
      "metadata": {
        "id": "CRz9bSLVSJQ2"
      },
      "execution_count": null,
      "outputs": []
    },
    {
      "cell_type": "markdown",
      "metadata": {
        "id": "PKEbtp_UD7Ja"
      },
      "source": [
        "[문제 11] 문자열 리스트를 받아, 각 문자열의 길이를 출력하는 함수 print_lengths를 작성하세요."
      ]
    },
    {
      "cell_type": "markdown",
      "metadata": {
        "id": "rV6RsupKD7Ja"
      },
      "source": []
    },
    {
      "cell_type": "code",
      "source": [
        "def print_lengths():\n",
        "    words = input('쉼표로 구분하여 단어들을 입력해주세요').split(',')\n",
        "\n",
        "    for word in words:\n",
        "        print(f\"{word} → 길이: {len(word)}\")\n",
        "\n",
        "print_lengths()"
      ],
      "metadata": {
        "colab": {
          "base_uri": "https://localhost:8080/"
        },
        "id": "hFkZQQg3SWE7",
        "outputId": "9526601b-90d2-42a1-e4a9-14eb35370c5e"
      },
      "execution_count": 40,
      "outputs": [
        {
          "output_type": "stream",
          "name": "stdout",
          "text": [
            "쉼표로 구분하여 단어들을 입력해주세요사랑,그게,맞나봐\n",
            "사랑 → 길이: 2\n",
            "그게 → 길이: 2\n",
            "맞나봐 → 길이: 3\n"
          ]
        }
      ]
    },
    {
      "cell_type": "markdown",
      "metadata": {
        "id": "zOz_4-4ID7Ja"
      },
      "source": [
        "---"
      ]
    },
    {
      "cell_type": "markdown",
      "metadata": {
        "id": "k4GMfb1oD7Ja"
      },
      "source": [
        "[문제 12] 두 문자열을 받아서 긴 문자열을 반환하는 함수 longer_string을 작성하세요. 만약 두 문자열의 길이가 같다면, 첫 번째 문자열을 반환하세요."
      ]
    },
    {
      "cell_type": "markdown",
      "metadata": {
        "id": "NAVipyjWD7Jb"
      },
      "source": [
        "// 답지 확인\n",
        "\n",
        "\n"
      ]
    },
    {
      "cell_type": "code",
      "source": [
        "def longer_string(str1, str2):\n",
        "    if len(str1) >= len(str2):\n",
        "        return str1\n",
        "    else:\n",
        "        return str2\n",
        "\n",
        "# 사용 예시\n",
        "print(longer_string(\"apple\", \"banana\"))\n",
        "\n",
        "\n",
        "# 코드 이해 완!"
      ],
      "metadata": {
        "colab": {
          "base_uri": "https://localhost:8080/"
        },
        "id": "zwBLfUPnU7eV",
        "outputId": "8122b457-1e98-41ec-e493-ae3ebd3a3d6c"
      },
      "execution_count": 43,
      "outputs": [
        {
          "output_type": "stream",
          "name": "stdout",
          "text": [
            "banana\n"
          ]
        }
      ]
    }
  ],
  "metadata": {
    "language_info": {
      "name": "python"
    },
    "colab": {
      "provenance": [],
      "include_colab_link": true
    },
    "kernelspec": {
      "name": "python3",
      "display_name": "Python 3"
    }
  },
  "nbformat": 4,
  "nbformat_minor": 0
}