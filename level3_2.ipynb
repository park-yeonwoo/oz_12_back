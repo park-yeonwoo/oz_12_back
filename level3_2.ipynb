{
  "cells": [
    {
      "cell_type": "markdown",
      "metadata": {
        "id": "view-in-github",
        "colab_type": "text"
      },
      "source": [
        "<a href=\"https://colab.research.google.com/github/park-yeonwoo/oz_12_back/blob/main/level3_2.ipynb\" target=\"_parent\"><img src=\"https://colab.research.google.com/assets/colab-badge.svg\" alt=\"Open In Colab\"/></a>"
      ]
    },
    {
      "cell_type": "markdown",
      "metadata": {
        "id": "WXEwMsfUct7U"
      },
      "source": [
        "안녕하세요.<br><br>\n",
        "수강생 여러분~!\n",
        "\n",
        "\"Challenge : Chapter05 ~ 08 문제풀기\"는 잘 풀어보셨나요?\n",
        "\n",
        "\n",
        "너~~무 어려웠어요! 하는 분들을 위해 만들어봤습니다!\n",
        "\n",
        "문제 도장깨기 !!!!!\n",
        "\n",
        "차근차근 풀어나가면 파이썬 정복 가능입니다!\n",
        "\n",
        "화이팅 !\n",
        "\n",
        "\n",
        "Chapter05~08의 수업 내용을 바탕으로 아래 문제를 풀어주시면 됩니다.\n",
        "\n",
        "<br>\n",
        "\n",
        "[**답변 입력 방법**]\n",
        "\n",
        "문제 아래에 있는 코드 입력창에 정답코드를 작성하신 후  __▷ 버튼을 클릭해 코드를 실행__ 해보세요<br>\n",
        "<br>"
      ]
    },
    {
      "cell_type": "markdown",
      "metadata": {
        "id": "qoyC9wF-3hvs"
      },
      "source": [
        "-----"
      ]
    },
    {
      "cell_type": "markdown",
      "metadata": {
        "id": "DdD7Ey201BS2"
      },
      "source": [
        "<br>\n",
        "\n",
        "__[문제1]__\n",
        "\n",
        "미션 부수기 챌린지\n",
        "\n",
        "다음 미션을 차례대로 부숴주세요.\n",
        "\n",
        "<br>\n",
        "\n",
        "__미션__\n",
        "- x에 5를 할당하고, y에는 10을 할당\n",
        "- x의 값을 제곱하고, 그 값을 z에 할당\n",
        "- y의 값을 2로 나눈 후, 그 값을 a에 할당\n",
        "- a와 z를 더한 값을 b에 할당\n",
        "- b의 값이 x와 같은지 출력\n",
        "-  b와 a를 문자열로 변환하여 합친 결과를 출력\n",
        "\n",
        "\n",
        "<br>"
      ]
    },
    {
      "cell_type": "code",
      "execution_count": 15,
      "metadata": {
        "colab": {
          "base_uri": "https://localhost:8080/"
        },
        "id": "H90axe9k1BS3",
        "outputId": "ef8349be-6662-4d02-b9ee-a5290fb28239"
      },
      "outputs": [
        {
          "output_type": "stream",
          "name": "stdout",
          "text": [
            "False\n",
            "5.030.0\n"
          ]
        }
      ],
      "source": [
        "x = 5\n",
        "y = 10\n",
        "\n",
        "z = x**2\n",
        "a = y / 2\n",
        "b = a + z\n",
        "\n",
        "\n",
        "print(b == x)\n",
        "print(str(a) + str(b))"
      ]
    },
    {
      "cell_type": "markdown",
      "metadata": {
        "id": "2gqoTSrR1BS3"
      },
      "source": [
        "<br>\n",
        "\n",
        "__[문제2]__\n",
        "\n",
        "변수 num에 \"45.67\" 이라는 문자열을 할당하고,\n",
        "\n",
        "파이썬 나라에서 돌다리를 건너려고 합니다.\n",
        "\n",
        "이 돌다리는 반드시 두드려 보고 건너야 합니다.\n",
        "\n",
        "미션을 해결하면 자동으로 단단한 돌다리인지 확인 됩니다!\n",
        "\n",
        "아래의 미션을 확인하고 돌다리를 건너주세요!\n",
        "\n",
        "<br>\n",
        "\n",
        "__미션__\n",
        "- 문자열 할당 (num)\n",
        "- 소수점 포함 숫자로 출력\n",
        "- 정수만 출력\n",
        "\n",
        "<br>"
      ]
    },
    {
      "cell_type": "code",
      "execution_count": 12,
      "metadata": {
        "colab": {
          "base_uri": "https://localhost:8080/"
        },
        "id": "3GB-xlmT1BS3",
        "outputId": "6e4e9cbd-7532-433e-8a7a-e11000441974"
      },
      "outputs": [
        {
          "output_type": "stream",
          "name": "stdout",
          "text": [
            "45.67\n",
            "45\n"
          ]
        }
      ],
      "source": [
        "num=45.67\n",
        "\n",
        "print(float(num))\n",
        "print(int(num))"
      ]
    },
    {
      "cell_type": "markdown",
      "metadata": {
        "id": "rAD_O3Gmc_43"
      },
      "source": [
        "<br>\n",
        "\n",
        "__[문제3]__\n",
        "\n",
        "첫 번째 공백을 기준으로 앞부분만 추출해주세요!\n",
        "\n",
        "<br>\n",
        "\n",
        "__text = \"Hello World Python\"__\n"
      ]
    },
    {
      "cell_type": "code",
      "execution_count": 17,
      "metadata": {
        "id": "74wtVQFFc_h1",
        "colab": {
          "base_uri": "https://localhost:8080/"
        },
        "outputId": "97405b3e-4109-4ee0-f7bf-f8d2915f1416"
      },
      "outputs": [
        {
          "output_type": "stream",
          "name": "stdout",
          "text": [
            "Hello\n"
          ]
        }
      ],
      "source": [
        "text = \"Hello World Python\"\n",
        "\n",
        "print(text[:5])"
      ]
    },
    {
      "cell_type": "markdown",
      "metadata": {
        "id": "3uK_auXYdgk2"
      },
      "source": [
        "<br>__[문제4]__\n",
        "\n",
        "문자열 \"PythonProgramming\" 이 주어졌을 때, 다음 미션을 해결해주세요!\n",
        "\n",
        "<br>\n",
        "\n",
        "__미션__\n",
        "- \"Python\"을 출력\n",
        "- \"Programming\" 출력\n",
        "- \"Pyg\" 출력\n",
        "- \"in\" 출력"
      ]
    },
    {
      "cell_type": "code",
      "execution_count": 43,
      "metadata": {
        "id": "9kvBxa6PdhgA",
        "colab": {
          "base_uri": "https://localhost:8080/"
        },
        "outputId": "d4798d15-070d-471a-e5d7-b65e79e7c727"
      },
      "outputs": [
        {
          "output_type": "stream",
          "name": "stdout",
          "text": [
            "Python\n",
            "Programming\n",
            "Pyg\n",
            "in\n"
          ]
        }
      ],
      "source": [
        "text = \"PythonProgramming\"\n",
        "\n",
        "\n",
        "\n",
        "print(text[:6])\n",
        "print(text[6:])\n",
        "print(text[0:2]+text[9])\n",
        "print(text[14:16])"
      ]
    },
    {
      "cell_type": "markdown",
      "metadata": {
        "id": "2Jte2VLKdiPm"
      },
      "source": [
        "__[문제5]__\n",
        "\n",
        "해외로 편지를 보냅니다.\n",
        "\n",
        "영어를 알파벳만 알기 때문에 아는 것만 적어 보내려고 합니다.\n",
        "\n",
        "근데 중간에 오타가 발생해버렸네요! 문자열의 일부를 바꿔 올바르게 고쳐 주세요. (소문자)\n",
        "\n",
        "<br>\n",
        "\n",
        "__word = \"abcXYZgh\"__\n"
      ]
    },
    {
      "cell_type": "code",
      "execution_count": 46,
      "metadata": {
        "colab": {
          "base_uri": "https://localhost:8080/"
        },
        "id": "IRfxEMrl1BS4",
        "outputId": "27d547b8-e5da-4d26-832d-cd9bc32465e8"
      },
      "outputs": [
        {
          "output_type": "stream",
          "name": "stdout",
          "text": [
            "ABCXYZGH\n"
          ]
        }
      ],
      "source": [
        "word = \"abcXYZgh\"\n",
        "\n",
        "print(word.upper())"
      ]
    },
    {
      "cell_type": "markdown",
      "metadata": {
        "id": "he7PXSOS1BS4"
      },
      "source": [
        "__[문제6]__\n",
        "\n",
        "창의성, 시장성, 안정성, 수익성에 대한 각각의 평가 중 아래 기준에 부합하지 못하면 창업지원을 받을 수 없습니다.\n",
        "\n",
        "- 수익성 60점 이상\n",
        "- 창의성과 시장성 50점 이상\n",
        "- 시장성과 수익성을 더한 값의 절반이 안정성 보다 높아야 함\n",
        "\n",
        "\n",
        "다음 점수가 입력되었을때 창업 지원이 가능한지 여부를 True 또는 False로 출력해주세요.\n",
        "\n",
        "---\n",
        "\n",
        "창의성 : 62\n",
        "시장성 : 71\n",
        "안정성 : 68\n",
        "수익성 : 66\n",
        "<br>\n",
        "\n",
        "* 참고\n",
        "(creativity ,\n",
        "marketability ,\n",
        "stability ,\n",
        "profitability )\n",
        "\n",
        "<br>\n",
        "\n",
        "__Tips__\n",
        "* 비교 연산자와 논리 연산자의 결과를 고려해보아요\n"
      ]
    },
    {
      "cell_type": "code",
      "execution_count": 51,
      "metadata": {
        "colab": {
          "base_uri": "https://localhost:8080/"
        },
        "id": "RFXiCuNP1BS4",
        "outputId": "52282c43-7084-4747-9f51-d51d76597ec0"
      },
      "outputs": [
        {
          "output_type": "stream",
          "name": "stdout",
          "text": [
            "True\n",
            "True\n",
            "True\n"
          ]
        }
      ],
      "source": [
        "creativity , marketability , stability , profitability = 62,71,68,66\n",
        "\n",
        "print(profitability >= 60)\n",
        "print(creativity>=50 and marketability >= 50)\n",
        "print((marketability + profitability) / 2 >= stability)"
      ]
    }
  ],
  "metadata": {
    "colab": {
      "provenance": [],
      "include_colab_link": true
    },
    "kernelspec": {
      "display_name": "Python 3",
      "name": "python3"
    },
    "language_info": {
      "codemirror_mode": {
        "name": "ipython",
        "version": 3
      },
      "file_extension": ".py",
      "mimetype": "text/x-python",
      "name": "python",
      "nbconvert_exporter": "python",
      "pygments_lexer": "ipython3",
      "version": "3.12.3"
    }
  },
  "nbformat": 4,
  "nbformat_minor": 0
}