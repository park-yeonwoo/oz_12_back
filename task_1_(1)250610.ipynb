{
  "cells": [
    {
      "cell_type": "markdown",
      "metadata": {
        "id": "view-in-github",
        "colab_type": "text"
      },
      "source": [
        "<a href=\"https://colab.research.google.com/github/park-yeonwoo/oz_12_back/blob/main/task_1_(1)250610.ipynb\" target=\"_parent\"><img src=\"https://colab.research.google.com/assets/colab-badge.svg\" alt=\"Open In Colab\"/></a>"
      ]
    },
    {
      "cell_type": "markdown",
      "metadata": {
        "id": "wJ-m5g8oU3iK"
      },
      "source": [
        "안녕하세요. 수강생 여러분~! Chapter42 ~ 47 수업은 잘 들으셨나요?\n",
        "\n",
        "Chapter42 ~ 47의 수업 내용을 바탕으로 아래 문제를 풀어주시면 됩니다.\n",
        "\n",
        "\n",
        "<br>\n",
        "\n",
        "\n",
        "[**답변 입력 방법**]\n",
        "\n",
        "문제 아래에 있는 코드 입력창에 정답코드를 작성하신 후  __▷ 버튼을 클릭해 코드를 실행__ 해보세요<br>"
      ]
    },
    {
      "cell_type": "markdown",
      "metadata": {
        "id": "NNXxM4ncU3iL"
      },
      "source": [
        "---"
      ]
    },
    {
      "cell_type": "markdown",
      "metadata": {
        "id": "EDY1yD3yU3iL"
      },
      "source": [
        "[문제 1]\n",
        "\n",
        "'Person'이라는 클래스를 선언하세요. 이 클래스는 name (이름)과 age (나이) 두 개의 속성을 갖습니다.<br>\n",
        "\n",
        "그리고 'greet'라는 메소드를 갖고 있으며, 이 메소드는 \"안녕하세요, 제 이름은 [name]입니다.\n",
        "\n",
        "나이는 [age]살입니다.\"라는 메시지를 반환합니다.<br>\n",
        "이 클래스를 사용하여 '홍길동'이라는 이름과 20살의 나이를 가진 'Person' 객체를 생성하고, 'greet' 메소드를 호출하여 메시지를 출력하세요."
      ]
    },
    {
      "cell_type": "code",
      "execution_count": 15,
      "metadata": {
        "colab": {
          "base_uri": "https://localhost:8080/"
        },
        "id": "snzCvPQgU3iM",
        "outputId": "f22dfdb0-7520-480d-ffab-2df19d713ec3"
      },
      "outputs": [
        {
          "output_type": "stream",
          "name": "stdout",
          "text": [
            "안녕하세요. 제 이름은 홍길동입니다. 나이는 20 입니다.\n"
          ]
        }
      ],
      "source": [
        "class Person:\n",
        "    def __init__(self, name, age): #init을 써서 꼭 정의하기.\n",
        "        self.name = name\n",
        "        self.age = age\n",
        "\n",
        "    def greet(self):\n",
        "        return f'안녕하세요. 제 이름은 {self.name}입니다. 나이는 {self.age} 입니다.'\n",
        "\n",
        "person = Person('홍길동', 20) #객체 생성할 때는 값 입력하기!!\n",
        "print(person.greet())\n"
      ]
    },
    {
      "cell_type": "markdown",
      "metadata": {
        "id": "u-B3aFnuU3iM"
      },
      "source": [
        "---"
      ]
    },
    {
      "cell_type": "markdown",
      "metadata": {
        "id": "5fWEmiF0U3iM"
      },
      "source": [
        "[문제 2]\n",
        "\n",
        "'Rectangle' 클래스를 작성하세요.\n",
        "\n",
        "이 클래스는 높이(height)와 너비(width)를 속성으로 가지며, 생성자(__init__)를 통해 이 두 속성을 초기화합니다.\n",
        "\n",
        "'area' 메소드를 추가하여 사각형의 면적을 계산하고 반환하도록 하세요. 높이가 10, 너비가 5인 사각형 객체를 생성하고,<br>\n",
        "이 객체를 사용하여 면적을 계산해 출력하세요."
      ]
    },
    {
      "cell_type": "code",
      "execution_count": 19,
      "metadata": {
        "colab": {
          "base_uri": "https://localhost:8080/"
        },
        "id": "Us3wLDL5U3iM",
        "outputId": "38b5c005-7174-4bcc-d262-8ccc2a7cb48a"
      },
      "outputs": [
        {
          "output_type": "stream",
          "name": "stdout",
          "text": [
            "50\n"
          ]
        }
      ],
      "source": [
        "class Rectangle:\n",
        "    def __init__(self, height, width):\n",
        "        self.height = height\n",
        "        self.width = width\n",
        "\n",
        "    def area(self):\n",
        "        return self.width * self.height #self 꼭 적기!\n",
        "\n",
        "Rectangle = Rectangle(10, 5)\n",
        "print(Rectangle.area())"
      ]
    },
    {
      "cell_type": "markdown",
      "metadata": {
        "id": "JOPGL5e9U3iM"
      },
      "source": [
        "---"
      ]
    },
    {
      "cell_type": "markdown",
      "metadata": {
        "id": "PqlIutoNU3iN"
      },
      "source": [
        "[문제 3]\n",
        "\n",
        "'Book' 클래스를 선언하세요.\n",
        "\n",
        "이 클래스는 title (제목)과 author (저자) 두 개의 속성을 갖습니다.\n",
        "\n",
        "__str__ 특수 메소드를 오버라이드하여, 객체를 문자열로 변환할 때 \"제목: [title], 저자: [author]\" 형식의 문자열을 반환하도록 하세요.\n",
        "\n",
        "'Book' 객체를 하나 생성하고, print 함수를 사용하여 해당 객체의 문자열 표현을 출력하세요."
      ]
    },
    {
      "cell_type": "code",
      "execution_count": 25,
      "metadata": {
        "colab": {
          "base_uri": "https://localhost:8080/"
        },
        "id": "LmHFTfXSU3iN",
        "outputId": "38365018-e1b1-4848-f99b-355ad52e130e"
      },
      "outputs": [
        {
          "output_type": "stream",
          "name": "stdout",
          "text": [
            "제목: 초격차캠프 길라잡이, 저자: 파머\n"
          ]
        }
      ],
      "source": [
        "class Book:\n",
        "    def __init__(self, title, author):\n",
        "        self.title = title\n",
        "        self.author = author\n",
        "\n",
        "    def __str__(self):\n",
        "        return f\"제목: {self.title}, 저자: {self.author}\"\n",
        "\n",
        "\n",
        "Book = Book('초격차캠프 길라잡이','파머')\n",
        "print(Book)"
      ]
    },
    {
      "cell_type": "markdown",
      "metadata": {
        "id": "P61H-MPwU3iN"
      },
      "source": [
        "---"
      ]
    },
    {
      "cell_type": "markdown",
      "metadata": {
        "id": "05uC9hySU3iN"
      },
      "source": [
        "[문제 4]\n",
        "\n",
        "'Employee' 클래스를 선언하세요.\n",
        "\n",
        "이 클래스는 월급인상률을 의미하는 클래스 변수로 'raise_amount'를 갖고 있으며, 기본값은 1.04입니다. 다음 급여는 기본 급여에 월급인상률을 곱한 값으로 결정합니다.\n",
        "\n",
        "또한, 각 직원의 이름(name)과 급여(salary)를 속성으로 가지며, 'apply_raise' 메소드를 통해 급여에 'raise_amount'를 적용할 수 있어야 합니다.\n",
        "\n",
        "'Employee' 클래스의 객체 두 개를 생성하고, 한 객체에만 'raise_amount'를 변경한 후, 두 객체의 급여를 증가시켜보세요.<br>\n",
        "그리고 각 객체의 새로운 급여를 출력하세요."
      ]
    },
    {
      "cell_type": "code",
      "execution_count": 29,
      "metadata": {
        "colab": {
          "base_uri": "https://localhost:8080/"
        },
        "id": "Zgul5JlxU3iN",
        "outputId": "fbad1b5a-978a-4fe4-9c64-84bea90ccf40"
      },
      "outputs": [
        {
          "output_type": "stream",
          "name": "stdout",
          "text": [
            "52500\n",
            "61800\n"
          ]
        }
      ],
      "source": [
        "class Employee:\n",
        "    raise_amount: 1.04\n",
        "\n",
        "    def __init__(self, name, salary):\n",
        "        self.name = name\n",
        "        self.salary = salary\n",
        "\n",
        "    def apply_raise(self):\n",
        "        self.salary = int(self.salary * self.raise_amount)\n",
        "\n",
        "emp_1 = Employee(\"직원1\", 50000)\n",
        "emp_2 = Employee(\"직원2\", 60000)\n",
        "\n",
        "#객체 생성.. 객체 두개 생성하여 다른 값 적용하기!\n",
        "Employee.raise_amount = 1.05\n",
        "emp_1.apply_raise()\n",
        "\n",
        "Employee.raise_amount = 1.03\n",
        "emp_2.apply_raise()\n",
        "\n",
        "\n",
        "print(emp_1.salary)\n",
        "print(emp_2.salary)\n"
      ]
    },
    {
      "cell_type": "markdown",
      "metadata": {
        "id": "6HLoqYaZU3iN"
      },
      "source": [
        "---"
      ]
    },
    {
      "cell_type": "markdown",
      "metadata": {
        "id": "27vI8ZlaU3iN"
      },
      "source": [
        "[문제 5]\n",
        "\n",
        "'Account' 클래스를 작성하세요.\n",
        "\n",
        "이 클래스는 소유자(owner)와 잔액(balance)을 속성으로 가지며, 잔액은 프라이빗 변수로 선언합니다.\n",
        "\n",
        "'deposit'와 'withdraw' 두 개의 메소드를 통해 잔액을 조작할 수 있도록 하세요.\n",
        "\n",
        "이 때, 잔액은 음수가 될 수 없도록 체크해야 합니다. 'Account' 객체를 생성하고,<br>\n",
        "입금 및 출금 작업을 시뮬레이션한 후, 최종 잔액을 출력하세요."
      ]
    },
    {
      "cell_type": "code",
      "execution_count": 41,
      "metadata": {
        "colab": {
          "base_uri": "https://localhost:8080/"
        },
        "id": "B6fxaqxqU3iN",
        "outputId": "6e4f1933-d26b-4e52-8fb9-461232147938"
      },
      "outputs": [
        {
          "output_type": "stream",
          "name": "stdout",
          "text": [
            "입금 성공\n",
            "출금 성공\n",
            "3000\n"
          ]
        }
      ],
      "source": [
        "class Account:\n",
        "    def __init__(self, owner, balance=0):\n",
        "        self._owner = owner\n",
        "        self._balance = balance\n",
        "\n",
        "    def deposit(self, amount):\n",
        "        if amount > 0:\n",
        "            self._balance += amount\n",
        "            print(\"입금 성공\")\n",
        "        else:\n",
        "            print(\"입금 실패\")\n",
        "\n",
        "    def withdraw(self, amount):\n",
        "        if 0 < amount <= self._balance:\n",
        "            self._balance -= amount\n",
        "            print(\"출금 성공\")\n",
        "        else:\n",
        "            print(\"출금 실패\")\n",
        "\n",
        "    def get_balance(self):\n",
        "        return self._balance\n",
        "\n",
        "\n",
        "account = Account(\"홍길동\", 3000)\n",
        "account.deposit(500)\n",
        "account.withdraw(500)\n",
        "print(account.get_balance())\n"
      ]
    },
    {
      "cell_type": "markdown",
      "metadata": {
        "id": "POS57VmjU3iN"
      },
      "source": [
        "---"
      ]
    },
    {
      "cell_type": "markdown",
      "metadata": {
        "id": "lLJGpO0HU3iN"
      },
      "source": [
        "[문제 6]\n",
        "\n",
        "'Vehicle'이라는 기본 클래스를 선언하세요.\n",
        "\n",
        "이 클래스는 make (제조사)와 model (모델명) 두 개의 속성을 갖고, 생성자(__init__)를 통해 이 두 속성을 초기화합니다. 'display_info'라는 메소드를 추가하여, \"이 차량은 [make]에서 제조한 [model]입니다.\"라는 메시지를 반환하도록 하세요.\n",
        "\n",
        "'Truck'과 'Car' 두 개의 하위 클래스를 생성하고, 각 클래스는 'Vehicle' 클래스로부터 상속받습니다.\n",
        "\n",
        "'Truck' 클래스에는 추가로 'payload' (적재량) 속성을, 'Car' 클래스에는 'seats' (좌석 수) 속성을 추가합니다. 각각의 하위 클래스에서 'display_info' 메소드는 기본 클래스의 메소드를 그대로 사용합니다.\n",
        "\n",
        "'Truck'과 'Car' 객체 각각을 생성하고, 'display_info' 메소드를 호출하여 정보를 출력하세요.\n",
        "\n",
        "또한, 각 객체의 추가 속성(적재량, 좌석 수)에 대한 정보도 출력하세요.\n",
        "\n",
        "이 문제는 클래스의 상속 개념을 이해하고, 기본 클래스의 속성과 메소드를 하위 클래스가 어떻게 활용할 수 있는지 보여줍니다.\n",
        "\n",
        "오버라이드는 필요하지 않으며, 각 하위 클래스의 고유한 속성을 추가하는 방법에 초점을 맞춥니다."
      ]
    },
    {
      "cell_type": "code",
      "execution_count": 54,
      "metadata": {
        "colab": {
          "base_uri": "https://localhost:8080/"
        },
        "id": "Kh9igzKbU3iN",
        "outputId": "b8a76ea9-8c7a-4f04-fe2d-03a5f6df3095"
      },
      "outputs": [
        {
          "output_type": "stream",
          "name": "stdout",
          "text": [
            "헤당 트럭의 적제량은 10톤 입니다\n",
            "해당 차량의 좌석 수는 5개 입니다.\n",
            "이 차량은 kia에서 제조한 소나타입니다.\n"
          ]
        }
      ],
      "source": [
        "class Vehicle:\n",
        "    def __init__(self, make, model):\n",
        "        self.make = make\n",
        "        self.model = model\n",
        "\n",
        "    def Truck(self, playload):\n",
        "        self.playload = playload\n",
        "        return f'헤당 트럭의 적제량은 {self.playload}톤 입니다'\n",
        "\n",
        "    def Car(self, seats):\n",
        "        self.seats = seats\n",
        "        return f'해당 차량의 좌석 수는 {self.seats}개 입니다.'\n",
        "\n",
        "    def display_info(self):\n",
        "        return f\"이 차량은 {self.make}에서 제조한 {self.model}입니다.\"\n",
        "\n",
        "vehicle = Vehicle('kia','소나타')\n",
        "print(vehicle.Truck(10))\n",
        "print(vehicle.Car(5))\n",
        "print(vehicle.display_info())"
      ]
    },
    {
      "cell_type": "markdown",
      "metadata": {
        "id": "xgkWbMfBU3iN"
      },
      "source": [
        "---"
      ]
    }
  ],
  "metadata": {
    "language_info": {
      "name": "python"
    },
    "colab": {
      "provenance": [],
      "include_colab_link": true
    },
    "kernelspec": {
      "name": "python3",
      "display_name": "Python 3"
    }
  },
  "nbformat": 4,
  "nbformat_minor": 0
}